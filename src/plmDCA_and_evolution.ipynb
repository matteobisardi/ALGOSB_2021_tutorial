{
  "nbformat": 4,
  "nbformat_minor": 0,
  "metadata": {
    "@webio": {
      "lastCommId": null,
      "lastKernelId": null
    },
    "anaconda-cloud": {},
    "kernelspec": {
      "display_name": "Python 3",
      "language": "python",
      "name": "python3"
    },
    "language_info": {
      "codemirror_mode": {
        "name": "ipython",
        "version": 3
      },
      "file_extension": ".py",
      "mimetype": "text/x-python",
      "name": "python",
      "nbconvert_exporter": "python",
      "pygments_lexer": "ipython3",
      "version": "3.8.3"
    },
    "toc": {
      "base_numbering": 1,
      "nav_menu": {},
      "number_sections": true,
      "sideBar": true,
      "skip_h1_title": false,
      "title_cell": "Table of Contents",
      "title_sidebar": "Contents",
      "toc_cell": true,
      "toc_position": {
        "height": "calc(100% - 180px)",
        "left": "10px",
        "top": "150px",
        "width": "289px"
      },
      "toc_section_display": true,
      "toc_window_display": true
    },
    "colab": {
      "name": "plmDCA_and_evolution.ipynb",
      "provenance": [],
      "collapsed_sections": [],
      "toc_visible": true,
      "include_colab_link": true
    }
  },
  "cells": [
    {
      "cell_type": "markdown",
      "metadata": {
        "id": "view-in-github",
        "colab_type": "text"
      },
      "source": [
        "<a href=\"https://colab.research.google.com/github/matteobisardi/ALGOSB_2021_tutorial/blob/main/src/plmDCA_and_evolution.ipynb\" target=\"_parent\"><img src=\"https://colab.research.google.com/assets/colab-badge.svg\" alt=\"Open In Colab\"/></a>"
      ]
    },
    {
      "cell_type": "markdown",
      "metadata": {
        "id": "hVdfFqoYeQi7"
      },
      "source": [
        "Internal to do list: \n",
        "- Add general references with papers\n",
        "- Correct pseudocount for mut spectrum plot\n",
        "- Add figures from our papers for clarity\n",
        "- Comment well Evolution part"
      ]
    },
    {
      "cell_type": "markdown",
      "metadata": {
        "id": "2DImbAToeZCs"
      },
      "source": [
        "# 0) General aim of the tutorial\n",
        "**What we would like to show you**\n",
        "\n",
        "Evolutionary information can be extracted from Multiple Sequence Alignments via **simple** and **interpretable** models in a matter of minutes. Such models have been used over the years for a variery of biologically relevant tasks [[testo del link]](https://), [[testo del link]](https://), [[testo del link]](https://). \n",
        "\n",
        "We will showcase some applications of those models using real data. I. particular we will learn two models using protein sequence family of antibiotic resistant proteins Beta-lactamases ([PFXXX](https://)) and another one ([PFXXX](https://)). \n",
        "\n",
        "**What you could do with what you learn**\n",
        "\n",
        " - Mutational effect prediction (including multiple mutations)\n",
        " - Fast generation of artificial sequences belonging to a target family\n",
        " - Explore evolutionary experiments\n",
        "\n",
        "**Caveats**\n",
        "\n",
        "The code presented here is a Python implementation of much faster [Julia](https://) code. This means that the models you will learn today in the short time of the presentation are not state-of-the-art. Simple Julia packages are available at [plm and so on](https://).\n",
        "\n",
        "**Plan of the tutorial**\n",
        "\n",
        "You can read it off the *Table of Contents* on the left"
      ]
    },
    {
      "cell_type": "markdown",
      "metadata": {
        "id": "p-TfknFWeQi8"
      },
      "source": [
        "# 1) Read alignment and preprocess data #\n",
        "\n",
        "Here we import a **Multiple Sequence Alignment (MSA)**, we compute the weights of the sequences and explore a bit the dataset. "
      ]
    },
    {
      "cell_type": "code",
      "metadata": {
        "ExecuteTime": {
          "end_time": "2021-10-18T11:43:51.201779Z",
          "start_time": "2021-10-18T11:43:51.197081Z"
        },
        "id": "v2XlsksbeQi-"
      },
      "source": [
        "# import relevant packages\n",
        "import numpy as np\n",
        "import warnings\n",
        "warnings.simplefilter(\"ignore\")"
      ],
      "execution_count": 6,
      "outputs": []
    },
    {
      "cell_type": "markdown",
      "metadata": {
        "id": "n62pp82LeQjC"
      },
      "source": [
        "## Import MSA"
      ]
    },
    {
      "cell_type": "code",
      "metadata": {
        "ExecuteTime": {
          "end_time": "2021-10-18T08:51:06.401791Z",
          "start_time": "2021-10-18T08:51:06.390685Z"
        },
        "id": "Z2cCfai4eQjD"
      },
      "source": [
        "# import data from GitHub\n",
        "%%bash\n",
        "wget -qnc https://raw.githubusercontent.com/matteobisardi/ALGOSB_2021_tutorial/main/data/Beta-lactamase_MSA.fasta"
      ],
      "execution_count": 8,
      "outputs": []
    },
    {
      "cell_type": "code",
      "metadata": {
        "id": "Wx5LRrhP6W8G",
        "colab": {
          "base_uri": "https://localhost:8080/"
        },
        "outputId": "cc77b18d-530d-442f-cbc1-625e64335f13"
      },
      "source": [
        "# read data \n",
        "data = open('Beta-lactamase_MSA.fasta', 'r')\n",
        "seqs_temp = data.readlines()\n",
        "data.close()\n",
        "\n",
        "# see data\n",
        "seqs_temp[:10]"
      ],
      "execution_count": 41,
      "outputs": [
        {
          "output_type": "execute_result",
          "data": {
            "text/plain": [
              "['>sp|P62593|BLAT_ECOLX/49-256\\n',\n",
              " 'LNSGKILSFRPEERFPMMSTFKVLLCGAVLSRVDAGQEQLGRRIHYSQNDLVEYSPVTEKHLTDGMTVRELCSAAITMSDNTAANLLLTTIGPKELTAFLHNMGDHVTRLDRWEPELNAIPNDERDTTMPAAMATTLRKLLTGELLTLAQLIDWMEDKVAGPLLRSALPAGWFIADKSGAERGSRGIIAALGPDGKPSRI--\\n',\n",
              " '>GBC78419.1/71-315\\n',\n",
              " 'LESGRRVALNGAERFPMASTYKVPIAVQVLTKVDRGELALDQMITLEPADLSPGSGTLSDLRPGALSVRNLLELMLLISDNTATDVLLRVAGAEAVTARLRELGIEEMRVDRPTKAAKRFDEDPRDTATPEAMVALLEQIYRGRALKRELLLDILRCRTGEARLKGLLPPGTEVAHKTGTIGGTTNDVGILTLDAGHVAIA-\\n',\n",
              " '>4C75_A/27-235\\n',\n",
              " '-GTGRTIAYRADERFPMCSTFKALAAAAVLAQVDAGKESLDRRITYTKDDLVDYSPVTEKHVGTGMTLAELCEAAITYSDNTAANLLLDEIGPKGLTAFLRSIGDDVTRLDRWEPELNALPGDPRDTTTPAAMAATLRALLLGDALSPAQLTDWMRNTTGDKLIRAGLPAGWRVGDKTGTSYGTRNDIAIIWPNRAPIVLAI\\n',\n",
              " '>OHB35854.1/62-313\\n',\n",
              " 'LESGELWAFNGSDRFPMMSVFKAPLGAAVLAEVDAGRLDLDETITLTDEDLSPFSPIADAYPGRTYTVGQLLELAVGQSDNTAADVLMRRIGPGVVTAWLRAHRIDDMRVDRYERATLAYMRDPRDTTTPRAALLFLSKLSAGELLSEARLLTLMSTTTGADRLKAGLPEGARLAHKTGTMNPATNDMGIITLDGRRYAVAV\\n',\n",
              " '>WP_092950155.1/54-261\\n',\n",
              " '-EAGRQAAYRGDELFPLCSTFKLLLAAQVLRRVDQGQERLDRRITYRKVDLVDYSPATAPHAGEGMTVAQLCEAAVTLSDNTAANLLLDSQGPQGLTAWLRSLGDAHTRLDRKEPELNDVPEGERDTTTPRAMARTIWAITHGEALSAAQITDWLVNRTGDKRLRAGMPQGWRIGEKTGTGRGTSNDAGLFWPPGRKPVMV-\\n']"
            ]
          },
          "metadata": {},
          "execution_count": 41
        }
      ]
    },
    {
      "cell_type": "markdown",
      "metadata": {
        "id": "oy0HRvt2eQjE"
      },
      "source": [
        "The format of the data is **.fasta**: \n",
        "* sequence  *descriptions* start with '**>**' and are followed by <font color = black > sequences </font>  on the next line. \n",
        "* seqeunce are *aligned*, they all have the same length\n",
        "\n",
        "\n",
        "<b>Note:</b> \"-\" gaps are used to align the data and are treted as any other amino acid in our models. You typically see them at the end of the sequences. \n"
      ]
    },
    {
      "cell_type": "markdown",
      "metadata": {
        "id": "E6XtxpEqMPcb"
      },
      "source": [
        "We only care about sequences, hence we will get rid of descriptions.<br>"
      ]
    },
    {
      "cell_type": "code",
      "metadata": {
        "id": "RparWA5geQjG",
        "colab": {
          "base_uri": "https://localhost:8080/"
        },
        "outputId": "1c929fc3-daa7-4b54-ef08-1500c0c914b1"
      },
      "source": [
        "# keep only sequences\n",
        "seqs = [seqs_temp[2*i + 1][:-1] for i in range( int( len(seqs_temp) /2 ) )]\n",
        "\n",
        "# see data\n",
        "seqs[:5]"
      ],
      "execution_count": 10,
      "outputs": [
        {
          "output_type": "execute_result",
          "data": {
            "text/plain": [
              "['LNSGKILSFRPEERFPMMSTFKVLLCGAVLSRVDAGQEQLGRRIHYSQNDLVEYSPVTEKHLTDGMTVRELCSAAITMSDNTAANLLLTTIGPKELTAFLHNMGDHVTRLDRWEPELNAIPNDERDTTMPAAMATTLRKLLTGELLTLAQLIDWMEDKVAGPLLRSALPAGWFIADKSGAERGSRGIIAALGPDGKPSRI--',\n",
              " 'LESGRRVALNGAERFPMASTYKVPIAVQVLTKVDRGELALDQMITLEPADLSPGSGTLSDLRPGALSVRNLLELMLLISDNTATDVLLRVAGAEAVTARLRELGIEEMRVDRPTKAAKRFDEDPRDTATPEAMVALLEQIYRGRALKRELLLDILRCRTGEARLKGLLPPGTEVAHKTGTIGGTTNDVGILTLDAGHVAIA-',\n",
              " '-GTGRTIAYRADERFPMCSTFKALAAAAVLAQVDAGKESLDRRITYTKDDLVDYSPVTEKHVGTGMTLAELCEAAITYSDNTAANLLLDEIGPKGLTAFLRSIGDDVTRLDRWEPELNALPGDPRDTTTPAAMAATLRALLLGDALSPAQLTDWMRNTTGDKLIRAGLPAGWRVGDKTGTSYGTRNDIAIIWPNRAPIVLAI',\n",
              " 'LESGELWAFNGSDRFPMMSVFKAPLGAAVLAEVDAGRLDLDETITLTDEDLSPFSPIADAYPGRTYTVGQLLELAVGQSDNTAADVLMRRIGPGVVTAWLRAHRIDDMRVDRYERATLAYMRDPRDTTTPRAALLFLSKLSAGELLSEARLLTLMSTTTGADRLKAGLPEGARLAHKTGTMNPATNDMGIITLDGRRYAVAV',\n",
              " '-EAGRQAAYRGDELFPLCSTFKLLLAAQVLRRVDQGQERLDRRITYRKVDLVDYSPATAPHAGEGMTVAQLCEAAVTLSDNTAANLLLDSQGPQGLTAWLRSLGDAHTRLDRKEPELNDVPEGERDTTTPRAMARTIWAITHGEALSAAQITDWLVNRTGDKRLRAGMPQGWRIGEKTGTGRGTSNDAGLFWPPGRKPVMV-']"
            ]
          },
          "metadata": {},
          "execution_count": 10
        }
      ]
    },
    {
      "cell_type": "markdown",
      "metadata": {
        "id": "MIme9hP9eQjG"
      },
      "source": [
        "We then keep only half of the dataset to reduce learning time."
      ]
    },
    {
      "cell_type": "code",
      "metadata": {
        "id": "1PeHu0IOeQjG"
      },
      "source": [
        "# keep half of the dataset\n",
        "seqs_small = [seqs[i] for i in range( int( len(seqs)/2)  )]\n",
        "\n",
        "def subsample_MSA(MSA, )\n",
        "  return [seqs[i] for i in range( int( len(MSA)/2)  )]"
      ],
      "execution_count": 11,
      "outputs": []
    },
    {
      "cell_type": "markdown",
      "metadata": {
        "id": "5QlW-qXLS1Nn"
      },
      "source": [
        "## Convert MSA to matrix"
      ]
    },
    {
      "cell_type": "markdown",
      "metadata": {
        "id": "bf_ixWtseQjG"
      },
      "source": [
        "Extract sequence length `L` and number of sequences `M` and convert the _MSA_ in a numerical matrix called `align`.\n",
        "To do so we need to convert amino acids to numbers."
      ]
    },
    {
      "cell_type": "code",
      "metadata": {
        "ExecuteTime": {
          "end_time": "2021-10-18T08:51:02.461530Z",
          "start_time": "2021-10-18T08:51:02.449495Z"
        },
        "id": "FXqppSk4eQjB"
      },
      "source": [
        " # function to convert the amino acids letters into integer numbers\n",
        "def letter2number(a): \n",
        "    switcher = {\n",
        "        '-': 20,\n",
        "        'A': 0,\n",
        "        'C': 1,\n",
        "        'D':2,\n",
        "        'E':3,\n",
        "        'F':4,\n",
        "        'G':5,\n",
        "        'H':6,\n",
        "        'I':7,\n",
        "        'K':8,\n",
        "        'L':9,\n",
        "        'M':10,\n",
        "        'N':11,\n",
        "        'P':12,\n",
        "        'Q':13,\n",
        "        'R':14,\n",
        "        'S':15,\n",
        "        'T':16,\n",
        "        'V':17,\n",
        "        'W':18,\n",
        "        'Y':19,     \n",
        "    }\n",
        "    return switcher.get(a,None)\n"
      ],
      "execution_count": 12,
      "outputs": []
    },
    {
      "cell_type": "markdown",
      "metadata": {
        "id": "mwO2Rnd5RDgg"
      },
      "source": [
        "Now we get transform our MSA to a matrix for better numerical handling. "
      ]
    },
    {
      "cell_type": "code",
      "metadata": {
        "ExecuteTime": {
          "end_time": "2021-10-18T08:51:07.947253Z",
          "start_time": "2021-10-18T08:51:07.812814Z"
        },
        "id": "dfDe9HD0eQjH",
        "colab": {
          "base_uri": "https://localhost:8080/"
        },
        "outputId": "e7e33182-635e-4c03-8d6c-516b57b5abf9"
      },
      "source": [
        "# get M and L\n",
        "M = np.size(seqs_small)\n",
        "L = len(seqs_small[0])\n",
        "\n",
        "print(f\"M = {M}, L = {L} \\n\")\n",
        "\n",
        "# convert amino acids chars to numbers\n",
        "align = np.zeros((M,L)).astype(int)\n",
        "for m in range (M):\n",
        "    for i in range (L):\n",
        "        align[m,i]=letter2number(seqs_small[m][i])  \n",
        "\n",
        "# see data \n",
        "align[:5]"
      ],
      "execution_count": 13,
      "outputs": [
        {
          "output_type": "stream",
          "name": "stdout",
          "text": [
            "M = 858, L = 202 \n",
            "\n"
          ]
        },
        {
          "output_type": "execute_result",
          "data": {
            "text/plain": [
              "array([[ 9, 11, 15, ...,  7, 20, 20],\n",
              "       [ 9,  3, 15, ...,  7,  0, 20],\n",
              "       [20,  5, 16, ...,  9,  0,  7],\n",
              "       [ 9,  3, 15, ..., 17,  0, 17],\n",
              "       [20,  3,  0, ..., 10, 17, 20]])"
            ]
          },
          "metadata": {},
          "execution_count": 13
        }
      ]
    },
    {
      "cell_type": "markdown",
      "metadata": {
        "id": "21HLlnn3qF7h"
      },
      "source": [
        "We can now put this code in the naive function `fasta2matrix` for future use."
      ]
    },
    {
      "cell_type": "code",
      "metadata": {
        "id": "BCG9TKk1qEjU"
      },
      "source": [
        "# function to read MSA and convert it to matrix\n",
        "def fasta2matrix(path):\n",
        "    data=open(path, 'r')\n",
        "    seqs_temp = data.readlines()\n",
        "    data.close()\n",
        "   \n",
        "    if seqs_temp[2][0] != '>':\n",
        "        seqs_temp = [seqs_temp[i][:-1] for i in range(int(len(seqs_temp)))]\n",
        "        seqs = [ \"\".join(  seqs_temp[ 4*i +1  :  4*i +4 ]  )  for i in range(int(len(seqs_temp)/4))]\n",
        "    else:\n",
        "        seqs = [seqs_temp[2*i+1][:-1] for i in range(int(len(seqs_temp)/2))]\n",
        "    \n",
        "    M=np.size(seqs)\n",
        "    L=len(seqs[0])\n",
        "    print(f\"M = {M}, L = {L} \\n\")\n",
        "    align=np.zeros((M,L)).astype(int)\n",
        "    for m in range(M):\n",
        "        for i in range (L):\n",
        "            align[m,i]=letter2number(seqs[m][i])\n",
        "    return align"
      ],
      "execution_count": 14,
      "outputs": []
    },
    {
      "cell_type": "code",
      "metadata": {
        "colab": {
          "base_uri": "https://localhost:8080/"
        },
        "id": "DyzzKx5MN5DM",
        "outputId": "ef3bbc1c-545f-43bc-f37b-983ff25244f5"
      },
      "source": [
        "# test fasta2matrix\n",
        "test_MSA = fasta2matrix('Beta-lactamase_MSA.fasta')"
      ],
      "execution_count": 15,
      "outputs": [
        {
          "output_type": "stream",
          "name": "stdout",
          "text": [
            "M = 1716, L = 202 \n",
            "\n"
          ]
        }
      ]
    },
    {
      "cell_type": "markdown",
      "metadata": {
        "id": "ptanl-Xjp88r"
      },
      "source": [
        "## Compute weights"
      ]
    },
    {
      "cell_type": "markdown",
      "metadata": {
        "id": "Xzq92TkZeQjI"
      },
      "source": [
        "One assumption of our models is that data used to train them should come from independent random samples, this is not the case for protein sequence data.\n",
        "\n",
        "Biases towards specific sequences are the rule and not the exception (i.e. sequences from model organisms might be overrepresented) and phylogenetic relationship can induce unwanted correlation in the data. <br>For this reason sequences must be reweighted to be able to treat them more as if they were statistically independent. \n",
        "\n",
        "The wheight $w_i$ of sequence $s_i$ is given by:\n",
        "\n",
        "$w_i(\\theta) = \\left( \\#s \\,\\, | \\,\\, d_H(s_i, s) > \\theta L \\, \\right)^{-1}$ \n",
        "\n",
        "that is the inverse of the number of sequences that are closer to sequence $s_i$ (in terms of amino acid mutations) more than a threshold value $\\theta$. Usually $\\theta$ is taken as 0.8, that is the threshold is given by $\\theta L$ where $L$ is the length of the sequences."
      ]
    },
    {
      "cell_type": "code",
      "metadata": {
        "id": "r1w-rHVdeQjI"
      },
      "source": [
        "# compute sequence weights\n",
        "θ = 0.8\n",
        "msa_compute_weights = np.eye(21)[align.astype(int)]\n",
        "mat_dist = np.tensordot(msa_compute_weights,msa_compute_weights,[[1,2],[1,2]])/msa_compute_weights.shape[1]\n",
        "trainingWeights = 1/np.sum(mat_dist>=θ,axis = 1)"
      ],
      "execution_count": 16,
      "outputs": []
    },
    {
      "cell_type": "markdown",
      "metadata": {
        "id": "FuRRvZyPeQjI"
      },
      "source": [
        "Expand the alignment to a binary `(M, 21*L)` array (one-hot encoding) for future use.\n",
        "\n",
        "In this format each amino acid is represented by a vector of $0$ and $1$ of length $21$. \n",
        "\n",
        "E.g:\n",
        "\n",
        "glycin $\\rightarrow$ 'G' $\\rightarrow$ 5 $\\rightarrow$ [0, 0, 0, 0, 1, 0, 0, 0, 0, 0, 0, 0, 0, 0, 0, 0, 0, 0, 0, 0, 0] "
      ]
    },
    {
      "cell_type": "code",
      "metadata": {
        "id": "o90bMgojeQjJ"
      },
      "source": [
        "# one hot encoder function\n",
        "def onehot(ali):\n",
        "    M, L = ali.shape\n",
        "    q = 21        \n",
        "    msa = np.zeros( (M,L*q) )\n",
        "    for m in range (M):\n",
        "        for i in range (L):\n",
        "            msa[m, i*q+ali[m,i]]=1 \n",
        "    return msa"
      ],
      "execution_count": 17,
      "outputs": []
    },
    {
      "cell_type": "code",
      "metadata": {
        "ExecuteTime": {
          "end_time": "2021-10-18T09:00:18.502390Z",
          "start_time": "2021-10-18T09:00:18.406686Z"
        },
        "id": "RltdRT78eQjJ",
        "colab": {
          "base_uri": "https://localhost:8080/"
        },
        "outputId": "6828939e-b588-44db-8b34-a6cf9345aca3"
      },
      "source": [
        "# one hot encode the data\n",
        "msa = onehot(align)\n",
        "\n",
        "# see the data\n",
        "msa"
      ],
      "execution_count": 18,
      "outputs": [
        {
          "output_type": "execute_result",
          "data": {
            "text/plain": [
              "array([[0., 0., 0., ..., 0., 0., 1.],\n",
              "       [0., 0., 0., ..., 0., 0., 1.],\n",
              "       [0., 0., 0., ..., 0., 0., 0.],\n",
              "       ...,\n",
              "       [0., 0., 0., ..., 0., 0., 1.],\n",
              "       [0., 0., 0., ..., 0., 0., 0.],\n",
              "       [0., 0., 0., ..., 0., 0., 1.]])"
            ]
          },
          "metadata": {},
          "execution_count": 18
        }
      ]
    },
    {
      "cell_type": "markdown",
      "metadata": {
        "id": "XMJJD8xweQjJ"
      },
      "source": [
        "`msa` is the version of our alignment with **one-hot encoded** sequences\n",
        "\n",
        "`align` is the version of our alignment with **amino acids converted to numbers**"
      ]
    },
    {
      "cell_type": "markdown",
      "metadata": {
        "id": "DSShVFv9hEHB"
      },
      "source": [
        "## DIY\n",
        "\n",
        "You can now try to import a MSA you are interested in and convert it to a matrix."
      ]
    },
    {
      "cell_type": "code",
      "metadata": {
        "id": "_zedCV6Vg8Mz"
      },
      "source": [
        "# import MSA\n",
        "my_MSA = fasta2matrix('my_data')\n",
        "\n",
        "\n",
        "# one hot encode\n",
        "my_MSA_oh = onehot(my_MSA)"
      ],
      "execution_count": null,
      "outputs": []
    },
    {
      "cell_type": "markdown",
      "metadata": {
        "id": "FwJCItOjeQjJ"
      },
      "source": [
        "# 2) Learn plmDCA model"
      ]
    },
    {
      "cell_type": "code",
      "metadata": {
        "ExecuteTime": {
          "end_time": "2021-10-18T13:17:52.857446Z",
          "start_time": "2021-10-18T13:17:47.344503Z"
        },
        "id": "vBW6To6BeQjK"
      },
      "source": [
        "# import relevant packages\n",
        "import keras\n",
        "import time\n",
        "from keras.models import Sequential\n",
        "from keras.layers import Dense\n",
        "from keras import optimizers\n",
        "from keras.callbacks import EarlyStopping\n",
        "from keras.regularizers import l2"
      ],
      "execution_count": 19,
      "outputs": []
    },
    {
      "cell_type": "code",
      "metadata": {
        "id": "iYRSLAXgeQjK"
      },
      "source": [
        "# define useful function\n",
        "def inputrange(i):\n",
        "    return [j for j in range(L*q) if j//q != i]\n",
        "def outputrange(i):\n",
        "    return [j for j in range(L*q) if j//q == i]"
      ],
      "execution_count": 20,
      "outputs": []
    },
    {
      "cell_type": "markdown",
      "metadata": {
        "id": "-r6pOK_AeQjK"
      },
      "source": [
        "## Learning"
      ]
    },
    {
      "cell_type": "markdown",
      "metadata": {
        "id": "mUVv4V4ieQjK"
      },
      "source": [
        "We want to learn the parameters of a Potts model, in which the probability of a sequence $ (s_1, s_2,...,s_L)$ is given by \n",
        "\n",
        "<font size=\"3\">$p \\,(s_1, s_2,...,s_L) = \\frac{1}{Z} \\exp(-E(s_1, s_2,...,s_L))$</font>. \n",
        "\n",
        "The energy is parametrized by couplings $J_{ij}$ (for co-evolution) and by fields $h_i$ (for conservation). We have\n",
        "\n",
        "<font size=\"3\">$E(s_1, s_2,...,s_L) = - \\sum_i h_i(s_i) -\\sum_{i,j} J_{ij}(s_i,s_j)$</font>\n",
        "\n",
        "The learning is done by maximization of the <font color = green >pseudo-likelihood</font>, insted of the full likelihood. The conditional probability of a site $i$ given the rest of the sequence is given by \n",
        "\n",
        "<font size=\"4\">$p(s_i | s_{j}, j\\ne i) = \\frac{\\exp(h_i(s_i)+\\sum_{j \\ne i} J_{ij}(s_i,s_j))}{Z_{s_{j}, j\\ne i}}$</font>\n",
        "\n",
        "We then learn the parameters by maximizing the pseudo log-likelihood (given $M$ sequences in the training set)\n",
        "\n",
        "<font size=\"3\">$PL = \\frac{1}{M}\\sum_{m = 1}^{M} \\sum_{i = 1}^{L} \\log{p(s_i^m | s_{j}^m, j\\ne i)}$</font>. \n",
        "\n",
        "This pseudo-likelihood maximization is proven to be consistent, that is in the limit of an infinite number of sequences, the parameters are exactly the optimal parameters of the Potts model.\n",
        "\n",
        "We are going to implement the <font color = green > asymetric </font> version of pseudo-likelihood maximization, that is $J_{ij} \\ne J_{ji}$. In this case, each parameter appears in just one conditional probability, and we can optimize each site independently : \n",
        "\n",
        "<font size=\"3\">$PL_i = \\frac{1}{M}\\sum_{m = 1}^{M}  \\log{p(s_i^m | s_{j}^m, j\\ne i)}$</font>"
      ]
    },
    {
      "cell_type": "markdown",
      "metadata": {
        "id": "1Fx9x-z4eQjL"
      },
      "source": [
        "\n",
        "<font color='red'> **Attention**:  </font> Don't run this  cell again to avoid overwriting the learned parameters. Comment the code if you want to be sure."
      ]
    },
    {
      "cell_type": "code",
      "metadata": {
        "id": "AXIpMUyFeQjL"
      },
      "source": [
        "# initialize the varibles\n",
        "q = 21\n",
        "h = np.zeros(L*q)\n",
        "J = np.zeros((L*q,L*q))"
      ],
      "execution_count": 21,
      "outputs": []
    },
    {
      "cell_type": "code",
      "metadata": {
        "id": "nRkdvQqQeQjL"
      },
      "source": [
        "# define the number of learning epochs\n",
        "EPO = 100"
      ],
      "execution_count": 22,
      "outputs": []
    },
    {
      "cell_type": "markdown",
      "metadata": {
        "id": "_MbZjQDqeQjL"
      },
      "source": [
        "The learning is done with keras: the input for a given site $i$ (and its conditional probability) is the sequence without the site $i$ in one-hot-encoding, the output is a q-vector corresponding to the probability to emit one of the $q$ amino acids. The learning is done by minimizing the categorigal cross entropy (which is completly equivalent to the maximization of  \n",
        "\n",
        "$\\frac{1}{M}\\sum_{m = 1}^{M} \\log{p(s_i^m| s_{j}^m,j \\ne i)}$.\n",
        "\n",
        "The parameters that you can change are \n",
        "- the number of epochs (number of steps in your gradient descent based algorithm)\n",
        "- the regularization of the couplings controlled by \"kernel_regularizer\"\n",
        "- the regularization of the fields controlled by \"bias_regularizer\""
      ]
    },
    {
      "cell_type": "markdown",
      "metadata": {
        "id": "RteIXu1heQjL"
      },
      "source": [
        "The learning should not take around 6 minutes on Colab with GPU Runtime and 10 with CPU. So if you want to save some minutes go on `Runtime` $\\rightarrow$ `Change runtime type` $\\rightarrow$ `GPU`\n",
        "\n",
        "*Let's start the learning!* <br>"
      ]
    },
    {
      "cell_type": "code",
      "metadata": {
        "ExecuteTime": {
          "end_time": "2021-10-19T13:56:59.382650Z",
          "start_time": "2021-10-19T13:54:04.752186Z"
        },
        "id": "D3ClhyOUeQjL",
        "colab": {
          "base_uri": "https://localhost:8080/"
        },
        "outputId": "5e3a10a0-20f8-476c-c6b7-602fa90ce1ad"
      },
      "source": [
        "# start timer\n",
        "start_t = time.time()\n",
        "\n",
        "# loop over each site pseudo-likelihood\n",
        "for i in range(L): \n",
        "\n",
        "    model = Sequential()\n",
        "    model.add(Dense(q, activation=\"softmax\", use_bias = True,input_shape=((L-1)*q,),kernel_regularizer=l2(0.1),bias_regularizer = l2(0.0001)))\n",
        "    model.compile(loss=\"categorical_crossentropy\",\n",
        "              optimizer='adam',\n",
        "              metrics=[\"accuracy\"])\n",
        "    batch_size = M\n",
        "    epochs = EPO\n",
        "    es = EarlyStopping(monitor='loss',min_delta=0.0001,verbose=0,patience=10)\n",
        "    history = model.fit(msa[:,inputrange(i)], msa[:,outputrange(i)],\n",
        "                    batch_size=batch_size,\n",
        "                    epochs=epochs,\n",
        "                    verbose=0,\n",
        "                    shuffle=True,\n",
        "                    callbacks=[es],\n",
        "                    sample_weight=trainingWeights[:]\n",
        "                   )\n",
        "\n",
        "    W=np.asarray(model.get_weights())\n",
        "    h[i*q:(i+1)*q]=W[1][:]    \n",
        "    for j in range(i):\n",
        "        J[j*q:(j+1)*q,i*q:(i+1)*q]=W[0][j*q:(j+1)*q,:]\n",
        "    for j in range(i+1,L):\n",
        "        J[j*q:(j+1)*q,i*q:(i+1)*q]=W[0][(j-1)*q:j*q,:]   \n",
        "\n",
        "    if (i != 0) & (i%10 == 0):\n",
        "        print(f\"Learned {i} sites (out of 202)\")\n",
        "    if i == 101:\n",
        "        middle_t = time.time()\n",
        "        print(f\"\\nWe are half way through! Keep believing! \\n{round(middle_t - start_t)} seconds (~ {round((middle_t - start_t)/60)} minutes) have elapsed so far.\\n\")\n",
        "        \n",
        "final_t = time.time()\n",
        "        \n",
        "print(\"\\nDone! Enjoy your results.\")\n",
        "print(f\"The learning has taken {round(final_t - start_t)} seconds in total (~ {round((final_t - start_t)/60)} minutes).\")"
      ],
      "execution_count": 39,
      "outputs": [
        {
          "output_type": "stream",
          "name": "stdout",
          "text": [
            "Learned 10 sites (out of 202)\n",
            "Learned 20 sites (out of 202)\n",
            "Learned 30 sites (out of 202)\n",
            "Learned 40 sites (out of 202)\n",
            "Learned 50 sites (out of 202)\n",
            "Learned 60 sites (out of 202)\n",
            "Learned 70 sites (out of 202)\n",
            "Learned 80 sites (out of 202)\n",
            "Learned 90 sites (out of 202)\n",
            "Learned 100 sites (out of 202)\n",
            "\n",
            "We are half way through! Keep believing! \n",
            "299 seconds (~ 5 minutes) have elapsed so far.\n",
            "\n",
            "Learned 110 sites (out of 202)\n",
            "Learned 120 sites (out of 202)\n",
            "Learned 130 sites (out of 202)\n",
            "Learned 140 sites (out of 202)\n",
            "Learned 150 sites (out of 202)\n",
            "Learned 160 sites (out of 202)\n",
            "Learned 170 sites (out of 202)\n",
            "Learned 180 sites (out of 202)\n",
            "Learned 190 sites (out of 202)\n",
            "Learned 200 sites (out of 202)\n",
            "\n",
            "Done! Enjoy your results.\n",
            "The learning has taken 591 seconds in total (~ 10 minutes).\n"
          ]
        }
      ]
    },
    {
      "cell_type": "markdown",
      "metadata": {
        "id": "4wkdgIdXeQjM"
      },
      "source": [
        "## Congrats!\n",
        "You have now learned your (first?) `plmDCA` model.\n",
        "\n",
        "The parameters are stored in the variable `h` for the **fields**.."
      ]
    },
    {
      "cell_type": "code",
      "metadata": {
        "id": "_jDZrdPHeQjM"
      },
      "source": [
        "# fields\n",
        "h"
      ],
      "execution_count": null,
      "outputs": []
    },
    {
      "cell_type": "markdown",
      "metadata": {
        "id": "5rSrle31eQjM"
      },
      "source": [
        "..and `J` for the **couplings**. "
      ]
    },
    {
      "cell_type": "code",
      "metadata": {
        "id": "k-DBcZKTeQjM"
      },
      "source": [
        "# couplings\n",
        "J"
      ],
      "execution_count": null,
      "outputs": []
    },
    {
      "cell_type": "markdown",
      "metadata": {
        "id": "tQRPvMeAeQjN"
      },
      "source": [
        "# 3) Predict mutational effects"
      ]
    },
    {
      "cell_type": "markdown",
      "metadata": {
        "id": "i5HDrSDMeQjN"
      },
      "source": [
        "We can predict the effect of mutations by the ratio of log probabilities between the mutated sequence and the wild type.\n",
        "\n",
        "\"*fitness*\" = $log \\frac{P(wild-type)}{P(mutant)}$ translates to $E(mutant) - E(wild-type)$.  \n",
        "\n",
        "If positive the model indicates a higher energy (lower fitness) for the mutant, and viceversa. "
      ]
    },
    {
      "cell_type": "code",
      "metadata": {
        "id": "XVDc9WHAeQjN"
      },
      "source": [
        "import scipy.stats as sc\n",
        "import matplotlib\n",
        "import matplotlib.pyplot as plt"
      ],
      "execution_count": null,
      "outputs": []
    },
    {
      "cell_type": "markdown",
      "metadata": {
        "id": "ew1lD3N-eQjN"
      },
      "source": [
        "For single mutations \n",
        "\n",
        "$ΔE = E(a_i \\rightarrow b_i)$ \n",
        "\n",
        "can be computed as\n",
        "$ΔE = h_i(a_i) - h_i(b_i) + \\sum_{j = 1}^L J_{ij}\\,(a_j, a_i) - J_{ij}\\,(a_j, b_i)$\n",
        "\n",
        "\n",
        "<b>Note:</b> Rememeber that \n",
        "\n",
        "<font size=\"3\">$E(s_1, s_2,...,s_L) = - \\sum_i h_i(s_i) -\\sum_{i,j} J_{ij}(s_i,s_j)$</font>\n",
        "\n",
        "that is there is a \"-\" sign in front of fields $h$ and couplings $J$."
      ]
    },
    {
      "cell_type": "code",
      "metadata": {
        "id": "UyIZgrf-eQjO"
      },
      "source": [
        "def get_silico_dms(h,J,seq,L):\n",
        "    single_muts = np.zeros((L,20))\n",
        "    for i in range(L):\n",
        "        tmp = h[i*q+seq[i]]\n",
        "        for j in range(L):\n",
        "            tmp += 0.5*(J[j*q+seq[j],i*q+seq[i]]+J[i*q+seq[i],j*q+seq[j]])\n",
        "        for k in range(20):\n",
        "            ΔE = tmp - h[i*q+k]\n",
        "            for j in range(L):\n",
        "                ΔE -= 0.5*(J[j*q+seq[j],i*q+k]+J[i*q+k,j*q+seq[j]])\n",
        "            single_muts[i,k] = ΔE\n",
        "    return single_muts\n",
        "\n",
        "def get_silico_dms_non_sym(h,J,seq,L):\n",
        "    single_muts = np.zeros((L,20))\n",
        "    for i in range(L):\n",
        "        tmp = h[i*q+seq[i]]\n",
        "        for j in range(L):\n",
        "            tmp += J[j*q+seq[j],i*q+seq[i]]\n",
        "        for k in range(20):\n",
        "            ΔE = tmp - h[i*q+k]\n",
        "            for j in range(L):\n",
        "                ΔE -= J[j*q+seq[j],i*q+k]\n",
        "            single_muts[i,k] = ΔE\n",
        "    return single_muts"
      ],
      "execution_count": null,
      "outputs": []
    },
    {
      "cell_type": "markdown",
      "metadata": {
        "id": "m7aEcftHeQjO"
      },
      "source": [
        "## plmDCA prediction"
      ]
    },
    {
      "cell_type": "markdown",
      "metadata": {
        "id": "FgV4Ij2PeQjO"
      },
      "source": [
        "Let's compute the change in energy of all single mutants of TEM-1, the first sequence of the alignment. "
      ]
    },
    {
      "cell_type": "code",
      "metadata": {
        "id": "CCiqbDifeQjO"
      },
      "source": [
        "TEM1 = align[0, :]\n",
        "silico_dms_TEM = get_silico_dms_non_sym(h,J,TEM1,L)"
      ],
      "execution_count": null,
      "outputs": []
    },
    {
      "cell_type": "markdown",
      "metadata": {
        "id": "HpTtquOgeQjP"
      },
      "source": [
        "We can compare our prediction with DMS data, that is **Deep Mutational Scannings**. Those are high thoughput experiments were libraries containing all single mutants of a protein are generated and their fitness measured.\n",
        "A reference can be found here: [Fowler et al.](https://www.nature.com/articles/nmeth.3027)"
      ]
    },
    {
      "cell_type": "code",
      "metadata": {
        "id": "v9OOMX6veQjP"
      },
      "source": [
        "dms = np.loadtxt(\"DMS_TEM1\")"
      ],
      "execution_count": null,
      "outputs": []
    },
    {
      "cell_type": "markdown",
      "metadata": {
        "id": "Z5w4nYFBeQjP"
      },
      "source": [
        "Let's compute the spearman correlation."
      ]
    },
    {
      "cell_type": "code",
      "metadata": {
        "ExecuteTime": {
          "end_time": "2021-10-19T14:47:15.395558Z",
          "start_time": "2021-10-19T14:47:15.105657Z"
        },
        "id": "2-d8Y1k_eQjP"
      },
      "source": [
        "sc.spearmanr(dms[:200,:].flatten(),silico_dms_TEM[:200,:].flatten())"
      ],
      "execution_count": null,
      "outputs": []
    },
    {
      "cell_type": "markdown",
      "metadata": {
        "id": "o5LDeEpPeQjP"
      },
      "source": [
        "Let's plot the data."
      ]
    },
    {
      "cell_type": "code",
      "metadata": {
        "id": "mIh-oOYjeQjP"
      },
      "source": [
        "xsize = 3\n",
        "ysize = 3\n",
        "\n",
        "vx = silico_dms_TEM[:200,:].flatten()\n",
        "vy = dms[:200,:].flatten()\n",
        "\n",
        "multip = 3\n",
        "sp_val = sc.spearmanr(vx, vy)[0]\n",
        "\n",
        "fig = plt.figure(figsize = (xsize, ysize), dpi = 200)\n",
        "\n",
        "pl1 = plt.scatter(vx, vy,s = multip*xsize, alpha = 0.4, linewidth = 0.6, \n",
        "    edgecolor = \"black\", color = \"dodgerblue\")\n",
        "plt.tick_params(labelsize = multip*xsize)\n",
        "plt.yscale(\"log\")\n",
        "plt.ylim((0.001, 3))\n",
        "plt.title(\"Prediction of mutational effects\", fontsize = 1.2*multip*xsize)\n",
        "plt.xlabel(\"ΔE Potts\", fontsize = multip*xsize)\n",
        "plt.ylabel(\"Fitness\", fontsize = multip*xsize)\n",
        "plt.text(1.9, 3, f\"spearman = {round(sp_val, 2)}\", fontsize = 0.8*multip*xsize);"
      ],
      "execution_count": null,
      "outputs": []
    },
    {
      "cell_type": "markdown",
      "metadata": {
        "id": "8zGnfQRYeQjR"
      },
      "source": [
        "# 4) Simulate experimental evolution "
      ]
    },
    {
      "cell_type": "code",
      "metadata": {
        "id": "VVHo8dRneQjR"
      },
      "source": [
        "from copy import deepcopy\n",
        "from numpy.random import choice \n",
        "import matplotlib\n",
        "import seaborn as sns"
      ],
      "execution_count": null,
      "outputs": []
    },
    {
      "cell_type": "code",
      "metadata": {
        "id": "rHYILV7TeQjR"
      },
      "source": [
        "def cod2amino(a): \n",
        "    #to convert the codon 3 letter strings into amino acids (in number format)\n",
        "    switcher = { \n",
        "        \"ATA\" :  7, \"ATC\" : 7, \"ATT\" : 7,  \n",
        "        \"ATG\" : 10, \n",
        "        \"ACA\" : 16, \"ACC\" : 16, \"ACG\" : 16, \"ACT\" : 16, \n",
        "        \"AAC\" : 11, \"AAT\" : 11, \n",
        "        \"AAA\" : 8, \"AAG\" : 8, \n",
        "        \"AGC\" : 15, \"AGT\" : 15, \"TCA\" : 15, \"TCC\" : 15, \"TCG\" : 15, \"TCT\" : 15,\n",
        "        \"AGA\" : 14, \"AGG\" : 14, \"CGA\" : 14, \"CGC\" : 14, \"CGG\" : 14, \"CGT\" : 14,              \n",
        "        \"CTA\" : 9, \"CTC\" : 9, \"CTG\" : 9, \"CTT\" : 9, \"TTA\" : 9, \"TTG\" : 9,\n",
        "        \"CCA\" : 12, \"CCC\" : 12, \"CCG\" : 12, \"CCT\" : 12, \n",
        "        \"CAC\" : 6, \"CAT\" : 6, \n",
        "        \"CAA\" : 13, \"CAG\" : 13, \n",
        "        \"GTA\" : 17, \"GTC\" : 17, \"GTG\" : 17, \"GTT\" : 17, \n",
        "        \"GCA\" : 0, \"GCC\" : 0, \"GCG\" : 0, \"GCT\" : 0, \n",
        "        \"GAC\" : 2, \"GAT\" : 2, \n",
        "        \"GAA\" : 3, \"GAG\" : 3, \n",
        "        \"GGA\" : 5, \"GGC\" : 5, \"GGG\" : 5, \"GGT\" : 5, \n",
        "        \"TTC\" : 4, \"TTT\" : 4,  \n",
        "        \"TAC\" : 19, \"TAT\" : 19, \n",
        "        \"TAA\" : 20, \"TAG\" :  20, \"TGA\" :  20, \"---\"  : 20,\n",
        "        \"TGC\" :  1, \"TGT\" : 1, \n",
        "        \"TGG\" : 18\n",
        "        }\n",
        "    return switcher.get(a, None)\n",
        "\n",
        "\n",
        "def dH(seq1, seq2):\n",
        "    #hamming distance (number of mutations) between two sequences\n",
        "    return sum(c1 != c2 for c1, c2 in zip(seq1, seq2))\n",
        "\n",
        "class Sequence(object):\n",
        "    #class containing amino acid and DNA sequence\n",
        "    def __init__(self, amino, codon):\n",
        "        self.Amino = amino\n",
        "        self.Codon = codon\n",
        "        \n",
        "def mutate_codon(self, new_codon, pos):\n",
        "    self.Codon[pos] = new_codon\n",
        "\n",
        "def mutate_amino(self, new_amino, pos):\n",
        "    self.Amino[pos] = new_amino\n",
        "\n",
        "def normalize(vec):\n",
        "    return vec/np.sum(vec)\n",
        "\n",
        "\n",
        "def cond_prob(position, amino_list, seq, h, J, N, T = 1):\n",
        "    #conditional probability of amino acid a_i in site i given the rest of the sequence\n",
        "    proba_vec = np.zeros(len(amino_list))  \n",
        "    for k, amino in enumerate(amino_list):\n",
        "        log_proba = h[position*q + amino]\n",
        "        for i in range(N):\n",
        "            log_proba += J[i*q + seq[i], position*q + amino]\n",
        "        proba_vec[k] = np.exp(log_proba/T)\n",
        "    return normalize(proba_vec)\n",
        "\n",
        "def cond_prob_sym(position, amino_list, seq, h, J, N, T = 1):\n",
        "    #conditional probability of amino acid a_i in site i given the rest of the sequence with symmetrized couplings\n",
        "    proba_vec = np.zeros(len(amino_list))  \n",
        "    for k, amino in enumerate(amino_list):\n",
        "        log_proba = h[position*q + amino]\n",
        "        for i in range(N):\n",
        "            log_proba += 0.5*(J[i*q + seq[i], position*q + amino] + J[position*q + amino, i*q + seq[i]])\n",
        "        proba_vec[k] = np.exp(log_proba/T)\n",
        "    return normalize(proba_vec)\n",
        "\n",
        "def accessible_states(old_codon):\n",
        "    #given a codon returns the list of amino acids reachable from that codon with one DNA mutation\n",
        "    old_codon = np.array([lettr for lettr in old_codon])\n",
        "    codon_list = []\n",
        "    for i in range(3):\n",
        "        mutated_cod = np.copy(old_codon)\n",
        "        for lettr in \"ACGT\":\n",
        "            mutated_cod[i] = lettr\n",
        "            if cod2amino(\"\".join(mutated_cod)) != 20 :\n",
        "                codon_list.append(\"\".join(mutated_cod) )\n",
        "    amino_list = list(set(map(cod2amino, codon_list)))\n",
        "    return codon_list, amino_list\n",
        "        \n",
        "def evol_seq(seq, MC_steps, h, J, N, T = 1):\n",
        "    #given a sequence returns an \"evolved\" sequence, that is a sequence with mutations introduced with Gibbs sampling\n",
        "    mutated_seq = deepcopy(seq)\n",
        "    non_gapped_pos = np.array([pos for pos, amino in enumerate(seq.Amino) if amino != 20])\n",
        "    for steps in range(MC_steps):\n",
        "        pos_mut = choice(non_gapped_pos)\n",
        "        old_codon = mutated_seq.Codon[pos_mut]\n",
        "        codon_list, amino_list = accessible_states(old_codon)\n",
        "        cond_proba = cond_prob(pos_mut, amino_list, mutated_seq.Amino, h, J, N, T)\n",
        "        new_amino = choice(amino_list, 1, p = cond_proba)[0]\n",
        "        new_codon = choice([codon for codon in codon_list if cod2amino(codon) == new_amino])\n",
        "        mutate_codon(mutated_seq, new_codon, pos_mut)\n",
        "        mutate_amino(mutated_seq, new_amino, pos_mut)\n",
        "    return mutated_seq\n",
        "\n",
        "def evol_seq_sym(seq, MC_steps, h, J, N, T = 1):\n",
        "    #symmetrized couplings version\n",
        "    mutated_seq = deepcopy(seq)\n",
        "    non_gapped_pos = np.array([pos for pos, amino in enumerate(seq.Amino) if amino != 20])\n",
        "    for steps in range(MC_steps):\n",
        "        pos_mut = choice(non_gapped_pos)\n",
        "        old_codon = mutated_seq.Codon[pos_mut]\n",
        "        codon_list, amino_list = accessible_states(old_codon)\n",
        "        cond_proba = cond_prob_sym(pos_mut, amino_list, mutated_seq.Amino, h, J, N, T)\n",
        "        new_amino = choice(amino_list, 1, p = cond_proba)[0]\n",
        "        new_codon = choice([codon for codon in codon_list if cod2amino(codon) == new_amino])\n",
        "        mutate_codon(mutated_seq, new_codon, pos_mut)\n",
        "        mutate_amino(mutated_seq, new_amino, pos_mut)\n",
        "    return mutated_seq\n",
        "\n",
        "def evol_seq_profile(seq, MC_steps, p_prof, N, T = 1):\n",
        "    #profile model version\n",
        "    mutated_seq = deepcopy(seq)\n",
        "    non_gapped_pos = np.array([pos for pos, amino in enumerate(seq.Amino) if amino != 20])\n",
        "    for steps in range(MC_steps):\n",
        "        pos_mut = choice(non_gapped_pos)\n",
        "        old_codon = mutated_seq.Codon[pos_mut]\n",
        "        codon_list, amino_list = accessible_states(old_codon)\n",
        "        prob = p_prof[pos_mut*21 : pos_mut*21 + 21 ][amino_list]\n",
        "        prob /= sum(prob)\n",
        "        new_amino = choice(amino_list, 1, p = prob)[0]\n",
        "        new_codon = choice([codon for codon in codon_list if cod2amino(codon) == new_amino])\n",
        "        mutate_codon(mutated_seq, new_codon, pos_mut)\n",
        "        mutate_amino(mutated_seq, new_amino, pos_mut)\n",
        "    return mutated_seq\n",
        "  \n",
        "    \n",
        "def energy(h, J, seq):\n",
        "    #energy of a sequence with symmetrized couplings\n",
        "    en = 0\n",
        "    L = len(seq)\n",
        "    for i in range(L):\n",
        "        en -= h[i*q+seq[i]]\n",
        "        for j in range(i):\n",
        "            en -= 0.5*(J[j*q+seq[j],i*q+seq[i]] + J[i*q+seq[i],j*q+seq[j]])\n",
        "    return en"
      ],
      "execution_count": null,
      "outputs": []
    },
    {
      "cell_type": "code",
      "metadata": {
        "id": "J2BrN2TeeQjS"
      },
      "source": [
        "def plot_mut_spectrum(freqs, seq_amino, title, ref = \"TEM\", data = \"freq\"): \n",
        "    #to plot MSA mutational spectrum\n",
        "    #-------USEFUL\n",
        "    \n",
        "    # fix the sides\n",
        "    pos1 = 1\n",
        "    pos2 = len(seq_amino)\n",
        "        \n",
        "    # length of the sequence to be displayed\n",
        "    l = pos2 - pos1 + 1\n",
        "    \n",
        "    # sequence to display\n",
        "    seq_amino = seq_amino[(pos1 -1): (pos2)]\n",
        "    \n",
        "    # sequence with None instead of gaps\n",
        "    seq_amino_none_gap = [None if val == 20 else val for val in seq_amino]\n",
        "    \n",
        "    # add None in the positions where the wt has a gap\n",
        "    freqs_nan = np.copy(freqs)\n",
        "    for i, val in enumerate(seq_amino_none_gap):\n",
        "        if val == None:\n",
        "            freqs_nan[:, i] = [None for i in range(20)]\n",
        "\n",
        "    #-------COLORS\n",
        "    \n",
        "    # define colors\n",
        "    if data == \"freq\":\n",
        "        norm1 = matplotlib.colors.LogNorm(vmin = 10^(-3), vmax = 1)\n",
        "        labb = \"Frequency\" \n",
        "        ccc = [\"white\",  \"#6a72da\", \"navy\",  \"limegreen\", \"limegreen\"]\n",
        "        cvals = [0, 0.16, 0.3, 0.5, 1] \n",
        "    elif data == \"en\":\n",
        "        ccc = [\"black\", \"green\", \"limegreen\", \"white\",\"white\", \"#6a72da\", \"darkblue\"]\n",
        "        norm1 = norm1 = matplotlib.colors.Normalize(-6, 10)\n",
        "        labb = \"ΔE\"\n",
        "        cvals = map(norm1, [-6, -5, -1,  1.5, 4.5 , 7, 10])     \n",
        "    elif data == \"fit\":\n",
        "        ccc = [\"darkblue\", \"#2932a6\", \"white\", \"limegreen\",  \"green\"]\n",
        "        norm1 = matplotlib.colors.LogNorm( 0.01, 2.5 )\n",
        "        labb = \"Fitness\"\n",
        "        cvals = map(norm1, [0.01, 0.1, 1.6, 2, 2.5]) \n",
        "    \n",
        "    tuples =list(zip(cvals, ccc))\n",
        "    cmap1 = matplotlib.colors.LinearSegmentedColormap.from_list(\"\", tuples, N = 50)\n",
        "        \n",
        "    # useful stuff\n",
        "    bar_dict = dict([ (\"shrink\", 1.2), (\"orientation\", \"vertical\")])\n",
        "\n",
        "    #-------MAINFIG\n",
        "    \n",
        "    # start figure\n",
        "    fig1 = plt.figure(figsize=(25,3), dpi = 300)\n",
        "    dat =  freqs_nan[:, range(pos1-1, pos2)]\n",
        "    ax = sns.heatmap(dat, cmap = cmap1,  norm = norm1,\n",
        "        square = True, center = 0.9,  linewidths=0.01, linecolor = \"lightgrey\", \n",
        "        cbar= True, cbar_kws = bar_dict)\n",
        "    # add title\n",
        "    plt.title(title, fontsize=20, y=1.08)\n",
        "    \n",
        "    # add labels to axis\n",
        "    plt.ylabel(\"Amino acid\",rotation=90,fontsize=20)\n",
        "    plt.xlabel(\"Protein sequence position\",rotation=0,fontsize=20) \n",
        "\n",
        "    # make frame visible\n",
        "    for key in [\"top\", \"bottom\", \"left\", \"right\"]:\n",
        "        ax.spines[key].set_visible(True)\n",
        "        \n",
        "    #-------COLORBAR\n",
        "    \n",
        "    # colorbal labels\n",
        "    cbar = ax.collections[0].colorbar\n",
        "    if data != \"en\":\n",
        "        cbar.set_ticks([0, 10**(-3), 10**(-2), 10**(-1),0.5, 1, 2])\n",
        "        cbar.set_ticklabels([0, \"10⁻³\", \"10⁻²\", \"10⁻¹\", 0.5, 1, 2])      \n",
        "    else:\n",
        "        cbar.set_ticks(range(-10, 10 + 1, 2))\n",
        "        cbar.set_ticklabels(range(-10, 10 + 1, 2)) \n",
        "    cbar.set_label(labb,fontsize = 18)\n",
        "    cbar.ax.tick_params(labelsize=18)\n",
        "    ax.set_facecolor(\"grey\")\n",
        "    cbar.outline.set_visible(True)\n",
        "    cbar.outline.set_edgecolor(\"black\")\n",
        "    cbar.outline.set_linewidth(1)\n",
        "    axbar = cbar.ax\n",
        "    axbar.set_aspect(13)\n",
        "    \n",
        "    #-------WT\n",
        "    \n",
        "    # add red scatter for wt\n",
        "    amino_pos = [None if amino == None else amino + 0.5 for amino in seq_amino_none_gap]\n",
        "    ok_pos = [None if val == None else i + 0.5 for i, val in enumerate(seq_amino_none_gap)]\n",
        "    p = plt.scatter(ok_pos, amino_pos, color = \"red\", s = 5, alpha = 0.8, \n",
        "        linewidth = 0.0, edgecolors = \"red\")\n",
        "    \n",
        "    # add wt name  \n",
        "    pos_leg = 1.35\n",
        "    \n",
        "    if ref == \"AAC6\":\n",
        "        pos_leg = 1.25\n",
        "    lgn = p.axes.legend([f\"{ref}\"] ,\n",
        "        bbox_to_anchor = (1,pos_leg), \n",
        "    frameon = True, framealpha = 0, edgecolor = \"black\", fontsize = 15)\n",
        "    lgn.legendHandles[0]._sizes = [130]\n",
        "  \n",
        "        \n",
        "     #-------XLABELS\n",
        "    \n",
        "    # xlabels and xticks\n",
        "    xxx_pos = [i for i in np.arange( 0.5, l - 0.5) ] \n",
        "    labs = [i for i in range(pos1, pos2+1)]\n",
        "    ax.set_xticks(xxx_pos)\n",
        "    ax.set_xticklabels(labels = labs, rotation=0, horizontalalignment=\"right\", \n",
        "        color=\"k\",fontsize= 12, ha = \"center\")\n",
        "    \n",
        "    # set xtiks every 10\n",
        "    temp = ax.xaxis.get_major_ticks()\n",
        "    for i, label in enumerate(temp): \n",
        "        if (i + 10)%10 != 0: \n",
        "            label.set_visible(False)\n",
        "            \n",
        "            \n",
        "    #-------YLABELS\n",
        "    \n",
        "    # set ylabels to nothing\n",
        "    ax.set_yticks([] )\n",
        "\n",
        "    # add ylabel\n",
        "    pos_amino_letts = 208\n",
        "    amino_dists = 1.8\n",
        "    amino_start = -8\n",
        "    if ref == \"AAC6\":\n",
        "        amino_dists = 1.2\n",
        "    if ref == \"AAC6\":\n",
        "        pos_amino_letts = 121\n",
        "    if ref == \"AAC6\":\n",
        "        amino_start = -2\n",
        "    yyy = [\"A\", \"C\", \"D\", \"E\", \"F\", \"G\", \"H\", \"I\", \"K\", \"L\",  \"M\",  \"N\", \"P\",  \"Q\",  \"R\",\n",
        "    \"S\",  \"T\", \"V\",  \"W\",  \"Y\"]\n",
        "    for i in range(20):\n",
        "        pp = amino_start + amino_dists*i + 1.5\n",
        "        ax.text(pos_amino_letts, pp, yyy[i], fontsize = 12)\n",
        "        \n",
        "    # draw one black bar\n",
        "    ax2 = plt.axes([0.745, 0.75, 0.018, 0.2])\n",
        "    x_values = [ 0, 1]\n",
        "    y_values = [0, 3]\n",
        "    ax2.plot(x_values, y_values, color = \"black\")\n",
        "    ax2.axis(\"off\")\n",
        "    \n",
        "    # draw the other black bar\n",
        "    ax3 = plt.axes([0.745, 0.05, 0.018, 0.2])\n",
        "    x_values = [ 0, 1]\n",
        "    y_values = [0, -3]\n",
        "    ax3.plot(x_values, y_values, color = \"black\")\n",
        "    ax3.axis(\"off\")\n",
        "    return fig1"
      ],
      "execution_count": null,
      "outputs": []
    },
    {
      "cell_type": "markdown",
      "metadata": {
        "id": "6gOZgQz6eQjS"
      },
      "source": [
        "## Data"
      ]
    },
    {
      "cell_type": "markdown",
      "metadata": {
        "id": "kRME87yteQjS"
      },
      "source": [
        "Read the aligned DNA sequence of PSE-1."
      ]
    },
    {
      "cell_type": "code",
      "metadata": {
        "id": "tvKincvveQjS"
      },
      "source": [
        "data_wt_DNA = open('./../data/PSE-1_DNA.fasta', 'r')\n",
        "PSE1_DNA_string = data_wt_DNA.readlines()[1][:-1]\n",
        "PSE1_codon = [PSE1_DNA_string[ (i*3) : ((i+1)*3) ] for i in range(L)]\n",
        "data_wt_DNA.close()"
      ],
      "execution_count": null,
      "outputs": []
    },
    {
      "cell_type": "markdown",
      "metadata": {
        "id": "FRCBp0z1eQjS"
      },
      "source": [
        "Here is how it looks like."
      ]
    },
    {
      "cell_type": "code",
      "metadata": {
        "id": "i6bG8dyYeQjT"
      },
      "source": [
        "PSE1_codon[1:10]"
      ],
      "execution_count": null,
      "outputs": []
    },
    {
      "cell_type": "markdown",
      "metadata": {
        "id": "SAwE3faueQjT"
      },
      "source": [
        "Let's translate it into amino acids.. or numbers in our case."
      ]
    },
    {
      "cell_type": "code",
      "metadata": {
        "id": "xIEER8O-eQjT"
      },
      "source": [
        "PSE1_amino = [cod2amino(PSE1_codon[i]) for i in range(L)]"
      ],
      "execution_count": null,
      "outputs": []
    },
    {
      "cell_type": "code",
      "metadata": {
        "id": "FM5fNMxoeQjT"
      },
      "source": [
        "PSE1_amino[1:10]"
      ],
      "execution_count": null,
      "outputs": []
    },
    {
      "cell_type": "markdown",
      "metadata": {
        "id": "EFUD8teWeQjT"
      },
      "source": [
        "<div class=\"alert alert-block alert-info\">\n",
        "<b>Note : </b>the genetic code is redundant! </div>\n",
        "\n",
        "```python \n",
        "PSE1_codon[5] = 'TAT'\n",
        "PSE1_codon[5] = 'TAC'\n",
        "``` \n",
        "\n",
        "but \n",
        "\n",
        "```python \n",
        "PSE1_amino[5] = 19 aka 'Y'\n",
        "PSE1_amino[5] = 19 aka 'Y'\n",
        "``` \n",
        "this plays a non trivial role in evolution!"
      ]
    },
    {
      "cell_type": "markdown",
      "metadata": {
        "id": "zTDbRU6meQjT"
      },
      "source": [
        "Let's now embed the data in the class `Sequence` for easier management.\n"
      ]
    },
    {
      "cell_type": "code",
      "metadata": {
        "id": "bVzQsSfueQjT"
      },
      "source": [
        "PSE1 = Sequence(PSE1_amino, PSE1_codon)"
      ],
      "execution_count": null,
      "outputs": []
    },
    {
      "cell_type": "markdown",
      "metadata": {
        "id": "8dV31scDeQjT"
      },
      "source": [
        "\n",
        "The functions `mutate_codon(Sequence, new_codon, pos)` and `mutate_amino(Sequence, new_amino, pos)` allow to easely change codons and amino acids in one sequence."
      ]
    },
    {
      "cell_type": "markdown",
      "metadata": {
        "id": "10a4ylXGeQjT"
      },
      "source": [
        "Given a sequence the model allows us to compute a *score* or *energy* (for those more keen to the physics jargon). <br>The lower the score, the better the sequence! This holds true as far as we stay withing the range of scores of natural sequences, generating sequences with lower scores might not be so miningful.."
      ]
    },
    {
      "cell_type": "code",
      "metadata": {
        "id": "knwX-p1YeQjT"
      },
      "source": [
        "E_PSE1 = energy(h, J, PSE1.Amino)\n",
        "print(E_PSE1)"
      ],
      "execution_count": null,
      "outputs": []
    },
    {
      "cell_type": "markdown",
      "metadata": {
        "id": "e9F4CAazeQjU"
      },
      "source": [
        "Let's compute the energy of all natural sequences - according to the model we learned."
      ]
    },
    {
      "cell_type": "code",
      "metadata": {
        "id": "foVCgqOWeQjU"
      },
      "source": [
        "E_nat = [energy(h, J, align[i, :]) for i in range(M)]"
      ],
      "execution_count": null,
      "outputs": []
    },
    {
      "cell_type": "code",
      "metadata": {
        "id": "HKDkGWMCeQjU"
      },
      "source": [
        "xsize = 3\n",
        "ysize = 3\n",
        "fig = plt.figure(figsize = (xsize, ysize), dpi = 200)\n",
        "plt.hist(E_nat)\n",
        "plt.show()\n",
        ";"
      ],
      "execution_count": null,
      "outputs": []
    },
    {
      "cell_type": "markdown",
      "metadata": {
        "id": "Av-uNOU5eQjU"
      },
      "source": [
        "## Evolution"
      ]
    },
    {
      "cell_type": "code",
      "metadata": {
        "id": "jC5uLkCHeQjU"
      },
      "source": [
        "We are going to "
      ],
      "execution_count": null,
      "outputs": []
    },
    {
      "cell_type": "markdown",
      "metadata": {
        "id": "9qH_z0dKeQjU"
      },
      "source": [
        "Looking at the data that comes from this [Stiffler et al.](https://www.sciencedirect.com/science/article/pii/S2405471219304284\") paper"
      ]
    },
    {
      "cell_type": "code",
      "metadata": {
        "id": "PPvGl8vgeQjU"
      },
      "source": [
        "MSA_exp = fasta2matrix(\"../data/PSE-1_Round20_Stiffler_10000.fasta\")"
      ],
      "execution_count": null,
      "outputs": []
    },
    {
      "cell_type": "markdown",
      "metadata": {
        "id": "eXzn5JJseQjU"
      },
      "source": [
        "Energy and Hamming distance of Stiffler's data."
      ]
    },
    {
      "cell_type": "code",
      "metadata": {
        "id": "DMCuSNTkeQjU"
      },
      "source": [
        "Mm = 100\n",
        "rr = choice(range(10000), Mm)\n",
        "H_exp = [dH(MSA_exp[i, :], PSE1.Amino) for i in rr]\n",
        "energy_exp = [energy(h, J, MSA_exp[i, :]) for i in rr]\n",
        "print(np.mean(energy_exp)  - E_PSE1)\n",
        "np.mean(H_exp)"
      ],
      "execution_count": null,
      "outputs": []
    },
    {
      "cell_type": "markdown",
      "metadata": {
        "id": "v0Nhw9KkeQjV"
      },
      "source": [
        "Generating an in silico alignment.."
      ]
    },
    {
      "cell_type": "code",
      "metadata": {
        "id": "mUlHcA9_eQjV"
      },
      "source": [
        "M_silico = 1000\n",
        "N = 202\n",
        "MSA_silico = np.zeros((M_silico, N), dtype = int)\n",
        "start_t = time.time()\n",
        "for i in range(M_silico):\n",
        "    MSA_silico[i, :] = evol_seq(PSE1, 75, h, J, N, T = 1.2).Amino\n",
        "    if (i > 0) & (i%100 == 0):\n",
        "        print(f\"Sampled {i} sequences (out of {M_silico})\")\n",
        "final_t = time.time()\n",
        "print(\"\\nDone! Enjoy your results.\")\n",
        "print(f\"The sampling has taken {round(final_t - start_t)} seconds in total (~ {round((final_t - start_t)/60)} minutes).\")"
      ],
      "execution_count": null,
      "outputs": []
    },
    {
      "cell_type": "markdown",
      "metadata": {
        "id": "hnjxnyakeQjV"
      },
      "source": [
        "Let's compute the correlation with the data."
      ]
    },
    {
      "cell_type": "code",
      "metadata": {
        "id": "4snmbsU_eQjV"
      },
      "source": [
        "def mut_profile(ali):\n",
        "    M, L = np.shape(ali)\n",
        "    ali_1hot = onehot(ali)\n",
        "    freq = np.sum(ali_1hot,0)/M\n",
        "    return np.reshape(freq, (L, 21))"
      ],
      "execution_count": null,
      "outputs": []
    },
    {
      "cell_type": "code",
      "metadata": {
        "id": "d8Kp5hQ8eQjV"
      },
      "source": [
        "print(M_silico)\n",
        "pi_silico = mut_profile(MSA_silico)\n",
        "ran = choice(range(10000), M_silico)\n",
        "pi_exp = mut_profile(MSA_exp[ran, :])\n",
        "sc.spearmanr(pi_exp.flatten(),pi_silico.flatten())"
      ],
      "execution_count": null,
      "outputs": []
    },
    {
      "cell_type": "markdown",
      "metadata": {
        "id": "dIKmsCQceQjV"
      },
      "source": [
        "Let's see them in a nice plot."
      ]
    },
    {
      "cell_type": "code",
      "metadata": {
        "id": "KLrkSdDkeQjV"
      },
      "source": [
        "fr_tmp = (mut_profile(MSA_silico_best[1:100]).T)[0:20, :]\n",
        "mmm = np.array([val for val in fr_tmp.flatten() if val != 0]).min()\n",
        "fr_tmp += mmm\n",
        "\n",
        "plot_mut_spectrum(fr_tmp, PSE1.Amino, \"Silico bmDCA\", ref = \"PSE-1\", data = \"freq\")\n",
        ";\n",
        "\n",
        "\n",
        "fr_tmp = (mut_profile(MSA_exp[1:1000]).T)[0:20, :]\n",
        "mmm = np.array([val for val in fr_tmp.flatten() if val != 0]).min()\n",
        "fr_tmp += mmm\n",
        "plot_mut_spectrum(fr_tmp, PSE1.Amino, \"Exp\", ref = \"PSE-1\", data = \"freq\")\n",
        ";\n",
        "\n",
        "fr_tmp = (mut_profile(MSA_silico[1:1000]).T)[0:20, :]\n",
        "mmm = np.array([val for val in fr_tmp.flatten() if val != 0]).min()\n",
        "fr_tmp += mmm\n",
        "plot_mut_spectrum(fr_tmp, PSE1.Amino, \"Silico plmDCA\", ref = \"PSE-1\", data = \"freq\")\n",
        ";\n",
        "\n",
        "fr_tmp = (mut_profile(MSA_silico_prof[1:1000]).T)[0:20, :]\n",
        "mmm = np.array([val for val in fr_tmp.flatten() if val != 0]).min()\n",
        "fr_tmp += mmm\n",
        "plot_mut_spectrum(fr_tmp, PSE1.Amino, \"Profile model\", ref = \"PSE-1\", data = \"freq\")\n",
        ";\n",
        "\n"
      ],
      "execution_count": null,
      "outputs": []
    },
    {
      "cell_type": "code",
      "metadata": {
        "id": "0CcgzDqSeQjV"
      },
      "source": [
        "plt.scatter(np.log(mut_profile(MSA_silico_prof[1:1000]).flatten()),\n",
        "            np.log(mut_profile(MSA_exp[1:1000]).flatten()))"
      ],
      "execution_count": null,
      "outputs": []
    },
    {
      "cell_type": "code",
      "metadata": {
        "id": "LDFMTV-meQjW"
      },
      "source": [
        "plt.scatter(np.log(mut_profile(MSA_silico_best[1:1000]).flatten()),\n",
        "            np.log(mut_profile(MSA_exp[1:1000]).flatten()))"
      ],
      "execution_count": null,
      "outputs": []
    },
    {
      "cell_type": "markdown",
      "metadata": {
        "id": "s9ipzVVqeQjW"
      },
      "source": [
        "What happens with the profile model?"
      ]
    },
    {
      "cell_type": "code",
      "metadata": {
        "id": "NTSiL63keQjW"
      },
      "source": [
        "N = 202\n",
        "M_silico_prof = 1000\n",
        "MSA_silico_prof = np.zeros((M_silico_prof, N), dtype = int)\n",
        "for i in range(M_silico_prof):\n",
        "        if i%100 == 0:\n",
        "            print(i)\n",
        "        MSA_silico_prof[i, :] = evol_seq_profile(PSE1, 62, pa, N, T = 1).Amino\n"
      ],
      "execution_count": null,
      "outputs": []
    },
    {
      "cell_type": "code",
      "metadata": {
        "id": "5CuSRo4QeQjW"
      },
      "source": [
        "print(M_silico_prof)\n",
        "ran = choice(range(165000), M_silico_prof)\n",
        "pi_prof = mut_profile(MSA_silico_prof)\n",
        "pi_exp = mut_profile(MSA_exp[ran, :])\n",
        "sc.spearmanr(pi_prof.flatten(),pi_exp.flatten())"
      ],
      "execution_count": null,
      "outputs": []
    },
    {
      "cell_type": "markdown",
      "metadata": {
        "id": "FiCjUNSreQjW"
      },
      "source": [
        "What can we reach (in terms of correlation) with a better lerned model?"
      ]
    },
    {
      "cell_type": "code",
      "metadata": {
        "id": "lm0VzHHmeQjW"
      },
      "source": [
        "MSA_silico_best = fasta2matrix(\"../data/PSE_silico_seqs_10000_T_1_4_MCsteps_75.fasta\")"
      ],
      "execution_count": null,
      "outputs": []
    },
    {
      "cell_type": "code",
      "metadata": {
        "id": "hPfhORnpeQjW"
      },
      "source": [
        "M_sub = 1000\n",
        "print(M_sub)\n",
        "ran = choice(range(10000), M_sub)\n",
        "pi_exp = mut_profile(MSA_exp[ran, :])\n",
        "pi_silico_best = mut_profile(MSA_silico_best[ran, :])\n",
        "sc.spearmanr(pi_silico_best.flatten(),pi_exp.flatten())"
      ],
      "execution_count": null,
      "outputs": []
    }
  ]
}
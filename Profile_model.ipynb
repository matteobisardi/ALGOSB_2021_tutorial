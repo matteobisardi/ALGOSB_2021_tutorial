{
  "cells": [
    {
      "cell_type": "markdown",
      "metadata": {
        "id": "view-in-github",
        "colab_type": "text"
      },
      "source": [
        "<a href=\"https://colab.research.google.com/github/matteobisardi/ALGOSB_2021_tutorial/blob/main/Profile_model.ipynb\" target=\"_parent\"><img src=\"https://colab.research.google.com/assets/colab-badge.svg\" alt=\"Open In Colab\"/></a>"
      ]
    },
    {
      "cell_type": "markdown",
      "metadata": {
        "id": "q8dOjLnm9F29"
      },
      "source": [
        "# Boltzmann learning of a profile model\n"
      ]
    },
    {
      "cell_type": "markdown",
      "metadata": {
        "id": "AsZthGru9F2_"
      },
      "source": [
        "## 0) Import packages"
      ]
    },
    {
      "cell_type": "code",
      "execution_count": 1,
      "metadata": {
        "id": "2yD5xX0x9F3B"
      },
      "outputs": [],
      "source": [
        "import numpy as np\n",
        "from numpy.random import choice\n",
        "from matplotlib import pyplot as plt\n",
        "import scipy.stats as sc"
      ]
    },
    {
      "cell_type": "markdown",
      "metadata": {
        "id": "0kItIril9F3D"
      },
      "source": [
        "## 1) Process data"
      ]
    },
    {
      "cell_type": "markdown",
      "metadata": {
        "id": "vllwqv5c9F3E"
      },
      "source": [
        "### 1.1) Import MSA"
      ]
    },
    {
      "cell_type": "markdown",
      "metadata": {
        "id": "Y6x6U4mZ9F3F"
      },
      "source": [
        "The format of the data is **.fasta**: \n",
        "* sequence  *descriptions* start with '**>**' and are followed by <font color = black > sequences </font>  on the next line. \n",
        "* sequences are *aligned*, that means that they have been preprocessed to all have the same length and the same patterns in the same position\n",
        "\n",
        "\n",
        "<b>Note:</b> \"-\" gaps are used to align the data and are treted as any other amino acid in our models. Usually they are found at the extremes of the sequences. \n"
      ]
    },
    {
      "cell_type": "code",
      "execution_count": 2,
      "metadata": {
        "id": "j_olkw3T9F3G",
        "outputId": "d6d5c986-167c-4a14-abe4-0a0d7a05a533",
        "colab": {
          "base_uri": "https://localhost:8080/"
        }
      },
      "outputs": [
        {
          "output_type": "execute_result",
          "data": {
            "text/plain": [
              "['>1\\n',\n",
              " '-CLDELHPGRCSNYVERWYYDRGTKKCRSFQYGGCGGNRNHFYSKENCIFHC-\\n',\n",
              " '>2\\n',\n",
              " 'MCMEPLVSGTGEAALNRFAYNALTRQCLPFVYSGIGGNQNNFLSKASCEASC-\\n',\n",
              " '>3\\n',\n",
              " 'ACKLLQDIGPCKASVTRWSFDMSKGECVQFNYGGCKGNANNFESKEICEDRC-\\n',\n",
              " '>4\\n',\n",
              " '-CMLPVRHGNCNHEAQRWHFDFKNYRCTPFKYRGCEGNANNFLSENACRTACM\\n',\n",
              " '>5\\n',\n",
              " 'VCSQPLVIGNGNGNVTRWYADPEDQRCKPFTYSGSGGTQNNFLTKEECESSCR\\n']"
            ]
          },
          "metadata": {},
          "execution_count": 2
        }
      ],
      "source": [
        "# read data \n",
        "data = open('PF00014_train', 'r')\n",
        "seqs_tmp = data.readlines()\n",
        "data.close()\n",
        "\n",
        "# see data\n",
        "seqs_tmp[:10]"
      ]
    },
    {
      "cell_type": "markdown",
      "metadata": {
        "id": "S6w_wf0l9F3H"
      },
      "source": [
        "**EX.1** We want to keep only the sequences. How do you do it? Save results in a variable called `seqs_my`."
      ]
    },
    {
      "cell_type": "code",
      "execution_count": null,
      "metadata": {
        "id": "QFDpnO5g9F3I"
      },
      "outputs": [],
      "source": []
    },
    {
      "cell_type": "markdown",
      "metadata": {
        "id": "8rhFCI749F3I"
      },
      "source": [
        "**SOL.1** "
      ]
    },
    {
      "cell_type": "code",
      "execution_count": null,
      "metadata": {
        "id": "UMd178qp9F3J",
        "cellView": "form"
      },
      "outputs": [],
      "source": [
        "#@title Testo del titolo predefinito\n",
        "# remove sequence descriptions\n",
        "seqs = [seqs_tmp[2*i + 1][:-1] for i in range( int( len(seqs_tmp) /2 ) )]\n",
        "\n",
        "# see data\n",
        "seqs[:5]"
      ]
    },
    {
      "cell_type": "markdown",
      "metadata": {
        "id": "KvRYvmOK9F3K"
      },
      "source": [
        "### 1.2) Compute single site frequencies"
      ]
    },
    {
      "cell_type": "code",
      "execution_count": null,
      "metadata": {
        "id": "1kc2D4gV9F3K",
        "outputId": "ef793cca-2d84-493b-ee5a-cbd73705cacd"
      },
      "outputs": [
        {
          "name": "stdout",
          "output_type": "stream",
          "text": [
            "M = 3000, L = 53 \n",
            "\n"
          ]
        },
        {
          "data": {
            "text/plain": [
              "''"
            ]
          },
          "execution_count": 4,
          "metadata": {},
          "output_type": "execute_result"
        }
      ],
      "source": [
        "# get M and L\n",
        "M = np.size(seqs)\n",
        "L = len(seqs[0])\n",
        "q = 21\n",
        "print(f\"M = {M}, L = {L} \\n\")\n",
        "\n",
        "    \n",
        "# dictionary to convert the amino acids letters into integer numbers\n",
        "letter2number = {  '-': 20,'A': 0, 'C': 1, 'D':2, 'E':3, 'F':4, 'G':5,'H':6,'I':7,'K':8,'L':9,'M':10,\n",
        "       'N':11,'P':12,'Q':13,'R':14,'S':15,'T':16,'V':17, 'W':18, 'Y':19 }\n",
        ";"
      ]
    },
    {
      "cell_type": "markdown",
      "metadata": {
        "id": "DaoGLsAj9F3M"
      },
      "source": [
        "**EX.2** Convert amino acids into numbers for the whole MSA"
      ]
    },
    {
      "cell_type": "code",
      "execution_count": null,
      "metadata": {
        "id": "5OLMD58R9F3M"
      },
      "outputs": [],
      "source": []
    },
    {
      "cell_type": "markdown",
      "metadata": {
        "id": "FgYa-jSD9F3N"
      },
      "source": [
        "**SOL.2** "
      ]
    },
    {
      "cell_type": "code",
      "execution_count": null,
      "metadata": {
        "id": "h4h-oe159F3O",
        "outputId": "4a3c516f-f836-4bce-c48d-5800ca043e4a"
      },
      "outputs": [
        {
          "data": {
            "text/plain": [
              "array([[20,  1,  9,  2,  3,  9,  6, 12,  5, 14,  1, 15, 11, 19, 17,  3,\n",
              "        14, 18, 19, 19,  2, 14,  5, 16,  8,  8,  1, 14, 15,  4, 13, 19,\n",
              "         5,  5,  1,  5,  5, 11, 14, 11,  6,  4, 19, 15,  8,  3, 11,  1,\n",
              "         7,  4,  6,  1, 20],\n",
              "       [10,  1, 10,  3, 12,  9, 17, 15,  5, 16,  5,  3,  0,  0,  9, 11,\n",
              "        14,  4,  0, 19, 11,  0,  9, 16, 14, 13,  1,  9, 12,  4, 17, 19,\n",
              "        15,  5,  7,  5,  5, 11, 13, 11, 11,  4,  9, 15,  8,  0, 15,  1,\n",
              "         3,  0, 15,  1, 20],\n",
              "       [ 0,  1,  8,  9,  9, 13,  2,  7,  5, 12,  1,  8,  0, 15, 17, 16,\n",
              "        14, 18, 15,  4,  2, 10, 15,  8,  5,  3,  1, 17, 13,  4, 11, 19,\n",
              "         5,  5,  1,  8,  5, 11,  0, 11, 11,  4,  3, 15,  8,  3,  7,  1,\n",
              "         3,  2, 14,  1, 20],\n",
              "       [20,  1, 10,  9, 12, 17, 14,  6,  5, 11,  1, 11,  6,  3,  0, 13,\n",
              "        14, 18,  6,  4,  2,  4,  8, 11, 19, 14,  1, 16, 12,  4,  8, 19,\n",
              "        14,  5,  1,  3,  5, 11,  0, 11, 11,  4,  9, 15,  3, 11,  0,  1,\n",
              "        14, 16,  0,  1, 10],\n",
              "       [17,  1, 15, 13, 12,  9, 17,  7,  5, 11,  5, 11,  5, 11, 17, 16,\n",
              "        14, 18, 19,  0,  2, 12,  3,  2, 13, 14,  1,  8, 12,  4, 16, 19,\n",
              "        15,  5, 15,  5,  5, 16, 13, 11, 11,  4,  9, 16,  8,  3,  3,  1,\n",
              "         3, 15, 15,  1, 14]])"
            ]
          },
          "execution_count": 5,
          "metadata": {},
          "output_type": "execute_result"
        }
      ],
      "source": [
        "#@title Testo del titolo predefinito\n",
        "# convert amino acids chars to numbers\n",
        "sequences = np.zeros((M,L)).astype(int)\n",
        "for m in range (M):\n",
        "    for i in range (L):\n",
        "        sequences[m,i]=letter2number[seqs[m][i]]  \n",
        "\n",
        "# see data \n",
        "sequences[:5]"
      ]
    },
    {
      "cell_type": "markdown",
      "metadata": {
        "id": "soGLpNIx9F3P"
      },
      "source": [
        "**EX.3** Now define a function called  `fasta2matrix_my` that takes as input the path and return the matrix"
      ]
    },
    {
      "cell_type": "code",
      "execution_count": null,
      "metadata": {
        "id": "_W06VxSM9F3Q"
      },
      "outputs": [],
      "source": []
    },
    {
      "cell_type": "markdown",
      "metadata": {
        "id": "CU85-9XK9F3R"
      },
      "source": [
        "**SOL.3**"
      ]
    },
    {
      "cell_type": "code",
      "execution_count": null,
      "metadata": {
        "id": "_DdTE1489F3R"
      },
      "outputs": [],
      "source": [
        "# takes \"path\" of the MSA as input, and returns matrix\n",
        "def fasta2matrix(path):\n",
        "    \n",
        "    data = open(path, 'r')\n",
        "    seqs_tmp = data.readlines()\n",
        "    data.close()\n",
        "    \n",
        "    seqs = [seqs_tmp[2*i + 1][:-1] for i in range( int( len(seqs_tmp) /2 ) )]\n",
        "    \n",
        "    M = np.size(seqs)\n",
        "    L = len(seqs[0])\n",
        "    \n",
        "    \n",
        "    sequences = np.zeros((M,L)).astype(int)\n",
        "    for m in range (M):\n",
        "        for i in range (L):\n",
        "            sequences[m,i]=letter2number[seqs[m][i]]  \n",
        "            \n",
        "    return sequences"
      ]
    },
    {
      "cell_type": "code",
      "execution_count": null,
      "metadata": {
        "id": "StwklMzX9F3T"
      },
      "outputs": [],
      "source": []
    },
    {
      "cell_type": "code",
      "execution_count": null,
      "metadata": {
        "id": "5nM6-BW_9F3T"
      },
      "outputs": [],
      "source": [
        "# initialize frequencies\n",
        "counts_tmp = np.zeros((q, L)).astype(float)\n",
        "\n",
        "# compute amino acid counts\n",
        "for m in range(M):\n",
        "    for i in range(L):\n",
        "        amino = sequences[m][i]\n",
        "        counts_tmp[amino][i] += 1\n",
        "        \n",
        "# normalize counts\n",
        "freqs_tmp = counts_tmp / M \n",
        "\n",
        "\n",
        "\n",
        "\n",
        "\n",
        "# create a function out of that\n",
        "def get_freqs(MSA, q = 21):\n",
        "    M, L = np.shape(MSA)\n",
        "    freqs_tmp = np.zeros((q, L)).astype(float)\n",
        "\n",
        "    for m in range(M):\n",
        "        for i in range(L):\n",
        "            amino = MSA[m][i]\n",
        "            freqs_tmp[amino][i] += 1\n",
        "\n",
        "    return freqs_tmp / M     "
      ]
    },
    {
      "cell_type": "markdown",
      "metadata": {
        "id": "Na5Z8dnq9F3U"
      },
      "source": [
        "**EX.4** Verify that the sum of the frequencies along the columns is 1"
      ]
    },
    {
      "cell_type": "code",
      "execution_count": null,
      "metadata": {
        "id": "7bWTlXpr9F3V"
      },
      "outputs": [],
      "source": []
    },
    {
      "cell_type": "markdown",
      "metadata": {
        "id": "yW_z3ain9F3W"
      },
      "source": [
        "**SOL.4**"
      ]
    },
    {
      "cell_type": "code",
      "execution_count": null,
      "metadata": {
        "id": "7AmQMQhG9F3X",
        "outputId": "b1895fc7-f3f6-4047-db37-b749bbebb06a"
      },
      "outputs": [
        {
          "data": {
            "text/plain": [
              "True"
            ]
          },
          "execution_count": 28,
          "metadata": {},
          "output_type": "execute_result"
        }
      ],
      "source": [
        "sum(sum(freqs_tmp)) == L"
      ]
    },
    {
      "cell_type": "code",
      "execution_count": null,
      "metadata": {
        "id": "c9bALLIE9F3X"
      },
      "outputs": [],
      "source": [
        "# add pseucounts\n",
        "pseudocount = 1/M\n",
        "freqs = pseudocount/q + (1 - pseudocount) * freqs_tmp\n"
      ]
    },
    {
      "cell_type": "markdown",
      "metadata": {
        "id": "WImpBBkL9F3Y"
      },
      "source": [
        "## 2) Learn the model"
      ]
    },
    {
      "cell_type": "code",
      "execution_count": null,
      "metadata": {
        "id": "tgiwPUQ19F3Y"
      },
      "outputs": [],
      "source": [
        "## DEFINE USEFUL FUNCTIONS ##\n",
        "\n",
        "# sample sequences from the model\n",
        "def MC_sampler(model, nsample):\n",
        "    q, L = np.shape(model) \n",
        "    seqs = choice(range(q), (nsample,L))\n",
        "    \n",
        "    for m in range(nsample):\n",
        "        for site in range(L):\n",
        "            a = sample_amino(model, site)\n",
        "            seqs[m][site] = a\n",
        "    return seqs\n",
        "\n",
        "# normalize vector to 1    \n",
        "def normalize(vec):\n",
        "    return vec/np.sum(vec)\n",
        "\n",
        "# sample single amino acid\n",
        "def sample_amino(model, site):\n",
        "    q, L = np.shape(model)\n",
        "    p = normalize(np.exp(model[:, site]))\n",
        "    return choice(range(q),  p = p)\n",
        "        "
      ]
    },
    {
      "cell_type": "markdown",
      "metadata": {
        "id": "z_5beXUn9F3Z"
      },
      "source": [
        "### 2.1) Define learning functions"
      ]
    },
    {
      "cell_type": "markdown",
      "metadata": {
        "id": "awbEYrpy9F3Z"
      },
      "source": [
        "**EX.5** We need to implement the function performing Boltzmann learning. Name it `learn_model_my`\n",
        "\n",
        "Input: \n",
        "- `freqs`: empirical frequencies\n",
        "\n",
        "\n",
        "\n",
        "\n",
        "Parameters:\n",
        "- `lr`: learning rate\n",
        "- `nsample`: number of samples needed to estimate the model frequencies\n",
        "- `t_learn`: number of iterations\n",
        "\n",
        "\n",
        "Output:\n",
        "- `model`: matrix(q, L)\n"
      ]
    },
    {
      "cell_type": "code",
      "execution_count": null,
      "metadata": {
        "id": "Ym-0l8n59F3a"
      },
      "outputs": [],
      "source": []
    },
    {
      "cell_type": "markdown",
      "metadata": {
        "id": "kuxghsMT9F3a"
      },
      "source": [
        "**SOL.5** "
      ]
    },
    {
      "cell_type": "code",
      "execution_count": null,
      "metadata": {
        "id": "-iHm0wqL9F3b"
      },
      "outputs": [],
      "source": [
        "def learn_model(freqs, lr = 0.1, nsample = 50, t_learn = 50):\n",
        "    q, L = np.shape(freqs) \n",
        "    model = 0.0 * np.zeros((q, L))\n",
        "\n",
        "    err_vec = np.zeros(t_learn)\n",
        "    \n",
        "    for t in range(t_learn):\n",
        "        sample = MC_sampler(model, nsample) \n",
        "        freqs_MC = get_freqs(sample)\n",
        "        model += lr*(freqs - freqs_MC)\n",
        "        \n",
        "        err_vec[t]  = sum(sum( (freqs - freqs_MC)**2 ))\n",
        "    return model, err_vec\n",
        "\n"
      ]
    },
    {
      "cell_type": "markdown",
      "metadata": {
        "id": "-KMxg1nz9F3b"
      },
      "source": [
        "#### Let's learn our first model!!"
      ]
    },
    {
      "cell_type": "code",
      "execution_count": null,
      "metadata": {
        "id": "NrTBtjSb9F3c"
      },
      "outputs": [],
      "source": [
        "# define learning paramters\n",
        "lr = 0.05\n",
        "nsample = 100\n",
        "t_learn = 15\n",
        "\n",
        "# learn the model\n",
        "model, err = learn_model(freqs, lr = lr, nsample = nsample, t_learn = t_learn)"
      ]
    },
    {
      "cell_type": "markdown",
      "metadata": {
        "id": "SWMzeENE9F3c"
      },
      "source": [
        "### 2.2) Model error"
      ]
    },
    {
      "cell_type": "code",
      "execution_count": null,
      "metadata": {
        "id": "s5TI09Np9F3c",
        "outputId": "0e45eeda-e955-40db-ee0c-461323db00e9"
      },
      "outputs": [
        {
          "data": {
            "text/plain": [
              "Text(0, 0.5, 'Total error')"
            ]
          },
          "execution_count": 13,
          "metadata": {},
          "output_type": "execute_result"
        },
        {
          "data": {
            "image/png": "[encoded data removed]",
            "text/plain": [
              "<Figure size 432x288 with 1 Axes>"
            ]
          },
          "metadata": {
            "needs_background": "light"
          },
          "output_type": "display_data"
        }
      ],
      "source": [
        "plt.plot(range(0,t_learn, 1),  err[0:t_learn], marker = \"o\")\n",
        "plt.xlabel(\"Iterations\", fontsize = 15)\n",
        "plt.ylabel(\"Total error\", fontsize = 15)\n"
      ]
    },
    {
      "cell_type": "markdown",
      "metadata": {
        "id": "MDI_Dued9F3d"
      },
      "source": [
        "**EX.6** The learning parameters don't seem well tunen. Change them smartly to achieve good learning in short time"
      ]
    },
    {
      "cell_type": "markdown",
      "metadata": {
        "id": "qnRcvAQK9F3d"
      },
      "source": [
        "**SOL.6** \n",
        "\n",
        "\n",
        "Good parameters:\n",
        "- `lr`: 0.3\n",
        "- `nsample`: 100\n",
        "- `t_learn`: 100\n"
      ]
    },
    {
      "cell_type": "code",
      "execution_count": null,
      "metadata": {
        "id": "JmX4fs8F9F3e"
      },
      "outputs": [],
      "source": [
        "model, err = learn_model(freqs, lr = 0.3, nsample = 100, t_learn = 100)"
      ]
    },
    {
      "cell_type": "markdown",
      "metadata": {
        "id": "RjCTcXrX9F3e"
      },
      "source": [
        "### 2.3) Generative properties"
      ]
    },
    {
      "cell_type": "code",
      "execution_count": null,
      "metadata": {
        "id": "Mg_qvRgB9F3e"
      },
      "outputs": [],
      "source": [
        "# sample sequences from the model (the funciton is a bit slow)\n",
        "sequences_samp = MC_sampler(model, nsample = M)\n",
        "\n",
        "# get frequencies\n",
        "freqs_learned = get_freqs(sequences_samp)\n"
      ]
    },
    {
      "cell_type": "code",
      "execution_count": null,
      "metadata": {
        "id": "FBssPp4L9F3f",
        "outputId": "6f55845a-7f40-49d1-b042-f61302aa4c46"
      },
      "outputs": [
        {
          "data": {
            "text/plain": [
              "Text(0, 0.5, 'Empirical frequencies ')"
            ]
          },
          "execution_count": 16,
          "metadata": {},
          "output_type": "execute_result"
        },
        {
          "data": {
            "image/png": "[encoded data removed]",
            "text/plain": [
              "<Figure size 432x288 with 1 Axes>"
            ]
          },
          "metadata": {
            "needs_background": "light"
          },
          "output_type": "display_data"
        }
      ],
      "source": [
        "# compare empirical and model frequencies\n",
        "plt.scatter(freqs_learned, freqs, alpha = .5)\n",
        "plt.xlabel(\"Learned frequecies\", fontsize = 15)\n",
        "plt.ylabel(\"Empirical frequencies \", fontsize = 15)"
      ]
    },
    {
      "cell_type": "code",
      "execution_count": null,
      "metadata": {
        "id": "FMoPVUaG9F3f",
        "outputId": "3d7df380-59ca-4f16-f4de-680e2fef163b"
      },
      "outputs": [
        {
          "data": {
            "text/plain": [
              "0.9967778964861779"
            ]
          },
          "execution_count": 17,
          "metadata": {},
          "output_type": "execute_result"
        }
      ],
      "source": [
        "# compute pearson correlation\n",
        "sc.pearsonr( freqs.flatten(), freqs_learned.flatten())[0]"
      ]
    },
    {
      "cell_type": "code",
      "execution_count": null,
      "metadata": {
        "id": "5oLq2aMB9F3g"
      },
      "outputs": [],
      "source": [
        "def gauge(matrix):\n",
        "    matrix_copy = np.exp(np.copy(matrix))\n",
        "    q, L = np.shape(matrix) \n",
        "    for site in range(L):\n",
        "        matrix_copy[:, site] /= sum( matrix_copy[:, site]  )\n",
        "    return np.log(matrix_copy)\n",
        "\n",
        "# analytical value of the fields\n",
        "h_emp = np.log(freqs)\n",
        "\n",
        "# fix the gauge to compare them\n",
        "h_emp_gauge = gauge(h_emp)\n",
        "model_gauge = gauge(model)\n"
      ]
    },
    {
      "cell_type": "code",
      "execution_count": null,
      "metadata": {
        "id": "FbPvju6a9F3g",
        "outputId": "f543a1b0-3d43-4a67-b9f6-b216c74850ad"
      },
      "outputs": [
        {
          "data": {
            "text/plain": [
              "Text(0, 0.5, 'Analytical fields ')"
            ]
          },
          "execution_count": 19,
          "metadata": {},
          "output_type": "execute_result"
        },
        {
          "data": {
            "image/png": "[encoded data removed]",
            "text/plain": [
              "<Figure size 432x288 with 1 Axes>"
            ]
          },
          "metadata": {
            "needs_background": "light"
          },
          "output_type": "display_data"
        }
      ],
      "source": [
        "plt.scatter(model_gauge.flatten(), h_emp.flatten(), alpha = .5)\n",
        "plt.xlabel(\"Learned fields\", fontsize = 15)\n",
        "plt.ylabel(\"Analytical fields \", fontsize = 15)"
      ]
    },
    {
      "cell_type": "markdown",
      "metadata": {
        "id": "oopo30vP9F3h"
      },
      "source": [
        "## 3) Energies"
      ]
    },
    {
      "cell_type": "markdown",
      "metadata": {
        "id": "N-lkVg_R9F3h"
      },
      "source": [
        "**EX.7** Let's write down the function to compute sequence energy\n",
        "`my_energy`\n",
        "\n",
        "Input: \n",
        "- `freqs`: model\n",
        "- `seq`: sequence"
      ]
    },
    {
      "cell_type": "code",
      "execution_count": null,
      "metadata": {
        "id": "a_kNU9ZX9F3h"
      },
      "outputs": [],
      "source": []
    },
    {
      "cell_type": "markdown",
      "metadata": {
        "id": "bJ6vn1xi9F3i"
      },
      "source": [
        "**SOL.6**"
      ]
    },
    {
      "cell_type": "code",
      "execution_count": null,
      "metadata": {
        "id": "tvS0W5rs9F3i"
      },
      "outputs": [],
      "source": [
        "# energy of a sequence\n",
        "def energy(model, seq):\n",
        "    L = len(seq)\n",
        "    E = 0\n",
        "    for site in range(L):\n",
        "        amino = seq[site]\n",
        "        E += model[amino][site]\n",
        "        \n",
        "    return -E\n",
        "\n"
      ]
    },
    {
      "cell_type": "markdown",
      "metadata": {
        "id": "12pqID7D9F3i"
      },
      "source": [
        "### 3.1) Energy comparison"
      ]
    },
    {
      "cell_type": "code",
      "execution_count": null,
      "metadata": {
        "id": "3yylMiFm9F3j",
        "outputId": "6f42c630-8c27-423d-cd41-a4fb08aaee38"
      },
      "outputs": [
        {
          "data": {
            "text/plain": [
              "<matplotlib.legend.Legend at 0x7fbdad71c2b0>"
            ]
          },
          "execution_count": 21,
          "metadata": {},
          "output_type": "execute_result"
        },
        {
          "data": {
            "image/png": "[encoded data removed]",
            "text/plain": [
              "<Figure size 432x288 with 1 Axes>"
            ]
          },
          "metadata": {
            "needs_background": "light"
          },
          "output_type": "display_data"
        }
      ],
      "source": [
        "# Compare the energies of the natural and of the generated sequences\n",
        "plt.hist([energy(model, sequences[i, :]) for i in range(M)],\n",
        "         alpha = 0.5, label = \"Nat\")\n",
        "plt.hist([energy(model, sequences_samp[i, :]) for i in range(M)], \n",
        "         alpha = 0.5, label = \"Sil\")\n",
        "plt.legend()"
      ]
    },
    {
      "cell_type": "code",
      "execution_count": null,
      "metadata": {
        "id": "b1fcWu4H9F3j",
        "outputId": "9adf94d1-c378-4f9b-ef43-ba82afb20de1"
      },
      "outputs": [
        {
          "data": {
            "text/plain": [
              "<matplotlib.legend.Legend at 0x7fbdad808550>"
            ]
          },
          "execution_count": 22,
          "metadata": {},
          "output_type": "execute_result"
        },
        {
          "data": {
            "image/png": "[encoded data removed]",
            "text/plain": [
              "<Figure size 432x288 with 1 Axes>"
            ]
          },
          "metadata": {
            "needs_background": "light"
          },
          "output_type": "display_data"
        }
      ],
      "source": [
        "#Let's compare the energies of randomly generated sequences with natural ones\n",
        "plt.hist([energy(model, sequences[i, :]) for i in range(M)],\n",
        "         alpha = 0.5, label = \"Nat\")\n",
        "plt.hist([energy(model,  choice(range(q), (L))) for i in range(M)], \n",
        "         alpha = 0.5, label = \"Rand\")\n",
        "plt.legend()"
      ]
    },
    {
      "cell_type": "markdown",
      "metadata": {
        "id": "oEghRrPm9F3k"
      },
      "source": [
        "**EX.7** Compute energies for the test set sequences and verify that they are reasonable.\n",
        "\n",
        "- Input file: `PF00014_test`"
      ]
    },
    {
      "cell_type": "code",
      "execution_count": null,
      "metadata": {
        "id": "MTFAqxoH9F3k"
      },
      "outputs": [],
      "source": []
    },
    {
      "cell_type": "markdown",
      "metadata": {
        "id": "fTxxmbkH9F3k"
      },
      "source": [
        "**SOL.7**"
      ]
    },
    {
      "cell_type": "code",
      "execution_count": null,
      "metadata": {
        "id": "E0hPZlkl9F3l",
        "outputId": "54bf88d0-76da-4b3b-fbb9-c052e90f4b06"
      },
      "outputs": [
        {
          "data": {
            "text/plain": [
              "<matplotlib.legend.Legend at 0x7fbdad836eb0>"
            ]
          },
          "execution_count": 23,
          "metadata": {},
          "output_type": "execute_result"
        },
        {
          "data": {
            "image/png": "[encoded data removed]",
            "text/plain": [
              "<Figure size 432x288 with 1 Axes>"
            ]
          },
          "metadata": {
            "needs_background": "light"
          },
          "output_type": "display_data"
        }
      ],
      "source": [
        "#Import test set and get dimensions\n",
        "MSA_test = fasta2matrix(\"ali/PF00014_test\")\n",
        "M_test, L = np.shape(MSA_test)\n",
        "\n",
        "#Replot train set energies\n",
        "plt.hist([energy(model, sequences[i, :]) for i in range(M)],\n",
        "         alpha = 0.5, label = \"Train\", density = True)\n",
        "\n",
        "#Plot test set energies\n",
        "plt.hist([energy(model, MSA_test[i, :] ) for i in range(M_test)], \n",
        "         alpha = 0.5, label = \"Test\", density = True)\n",
        "\n",
        "#Generate legend\n",
        "plt.legend()"
      ]
    },
    {
      "cell_type": "markdown",
      "metadata": {
        "id": "I2ZCRrtd9F3l"
      },
      "source": [
        "### 3.2) Family assignment problem"
      ]
    },
    {
      "cell_type": "markdown",
      "metadata": {
        "id": "pjvtr86_9F3m"
      },
      "source": [
        "Suppose to have a brand new sequence and you don't know its protein family. How would you exploit the model to guess it?"
      ]
    },
    {
      "cell_type": "code",
      "execution_count": null,
      "metadata": {
        "id": "w6uocCsf9F3m"
      },
      "outputs": [],
      "source": [
        "# Import MSA's of two families to learn models\n",
        "MSA_1 = fasta2matrix(\"ali/PF00014_train\")\n",
        "MSA_2 = fasta2matrix(\"ali/betalactam_train\")\n",
        "\n",
        "M, L = np.shape(MSA_1)\n",
        "\n",
        "#Import MSA of test sequences\n",
        "MSA_test = fasta2matrix(\"ali/test_mixed.fasta\")\n",
        "\n",
        "M_test, L = np.shape(MSA_test)"
      ]
    },
    {
      "cell_type": "code",
      "execution_count": null,
      "metadata": {
        "id": "ub5WAe9R9F3n"
      },
      "outputs": [],
      "source": [
        "model_1, _ = learn_model(get_freqs(MSA_1), lr = 0.3, nsample = 50, t_learn = 10)\n",
        "model_2, _ = learn_model(get_freqs(MSA_2), lr = 0.3, nsample = 50, t_learn = 10)\n",
        "\n"
      ]
    },
    {
      "cell_type": "code",
      "execution_count": null,
      "metadata": {
        "id": "pChaLOUm9F3n",
        "outputId": "0c789042-6b09-47c2-c0f3-5d71bd53299e"
      },
      "outputs": [
        {
          "data": {
            "text/plain": [
              "''"
            ]
          },
          "execution_count": 26,
          "metadata": {},
          "output_type": "execute_result"
        }
      ],
      "source": [
        "energy_test = [energy(model_1, MSA_test[i, :])  for i in range(M_test) ]\n",
        "energy_train_1 = [energy(model_1, MSA_1[i, :])  for i in range(M) ]\n",
        ";\n"
      ]
    },
    {
      "cell_type": "markdown",
      "metadata": {
        "id": "3FftM2jE9F3o"
      },
      "source": [
        "**EX.8** Can you visualize the difference?"
      ]
    },
    {
      "cell_type": "markdown",
      "metadata": {
        "id": "-hMpvAvv9F3o"
      },
      "source": [
        "**SOL.8**"
      ]
    },
    {
      "cell_type": "code",
      "execution_count": null,
      "metadata": {
        "id": "Hp5tB-_t9F3o",
        "outputId": "3dee589d-d050-4208-93e3-4a98fb7032f4"
      },
      "outputs": [
        {
          "data": {
            "text/plain": [
              "<matplotlib.legend.Legend at 0x7fbdad83de20>"
            ]
          },
          "execution_count": 27,
          "metadata": {},
          "output_type": "execute_result"
        },
        {
          "data": {
            "image/png": "[encoded data removed]",
            "text/plain": [
              "<Figure size 432x288 with 1 Axes>"
            ]
          },
          "metadata": {
            "needs_background": "light"
          },
          "output_type": "display_data"
        }
      ],
      "source": [
        "plt.hist(energy_train_1,density = True, alpha = 0.5, label = \"Train\")\n",
        "plt.hist(energy_test,density = True, alpha = 0.5, label = \"Test\")\n",
        "plt.legend()"
      ]
    },
    {
      "cell_type": "code",
      "execution_count": null,
      "metadata": {
        "id": "kQu3xshv9F3p"
      },
      "outputs": [],
      "source": []
    },
    {
      "cell_type": "code",
      "execution_count": null,
      "metadata": {
        "id": "zx7Kr18g9F3p"
      },
      "outputs": [],
      "source": []
    },
    {
      "cell_type": "code",
      "execution_count": null,
      "metadata": {
        "id": "u_lh4FFW9F3p"
      },
      "outputs": [],
      "source": []
    },
    {
      "cell_type": "code",
      "execution_count": null,
      "metadata": {
        "id": "qSnlIOIE9F3q"
      },
      "outputs": [],
      "source": []
    },
    {
      "cell_type": "code",
      "execution_count": null,
      "metadata": {
        "id": "tsV2tbK-9F3q"
      },
      "outputs": [],
      "source": []
    }
  ],
  "metadata": {
    "kernelspec": {
      "display_name": "Python 3",
      "language": "python",
      "name": "python3"
    },
    "language_info": {
      "codemirror_mode": {
        "name": "ipython",
        "version": 3
      },
      "file_extension": ".py",
      "mimetype": "text/x-python",
      "name": "python",
      "nbconvert_exporter": "python",
      "pygments_lexer": "ipython3",
      "version": "3.8.3"
    },
    "colab": {
      "provenance": [],
      "include_colab_link": true
    }
  },
  "nbformat": 4,
  "nbformat_minor": 0
}